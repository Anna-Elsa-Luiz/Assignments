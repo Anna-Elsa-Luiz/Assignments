{
 "cells": [
  {
   "cell_type": "markdown",
   "id": "99afef11-79dd-4943-85a8-4b098e7be5c4",
   "metadata": {},
   "source": [
    "Q1: What is the primary goal of Object-Oriented Programming (OOP)?"
   ]
  },
  {
   "cell_type": "markdown",
   "id": "750e3572-8ba5-4752-bb54-fc1d8eb471d0",
   "metadata": {},
   "source": [
    "Ans:\n",
    "\n",
    "* Object Oriented Programming allows decomposition of problem into a number of entities called Objects and then build data and functions around these objects.ie,Object-oriented programming (OOP) is a programming paradigm in which programs are designed using 𝐜𝐥𝐚𝐬𝐬𝐞𝐬 𝐚𝐧𝐝 𝐨𝐛𝐣𝐞𝐜𝐭𝐬.\n",
    "* Data structures are designed such that they characterize the objects. \n",
    "* Functions that operate on the data of an object are tied together in the data structure.\n",
    "* New data and functions can be easily added whenever necessary.\n",
    "* Code Reusability.\n",
    "* OOP provides a way to design your program that makes it 𝐫𝐞𝐮𝐬𝐚𝐛𝐥𝐞, 𝐬𝐞𝐜𝐮𝐫𝐞, 𝐬𝐭𝐚𝐛𝐥𝐞, 𝐚𝐧𝐝 𝐞𝐚𝐬𝐲 𝐭𝐨 𝐮𝐧𝐝𝐞𝐫𝐬𝐭𝐚𝐧𝐝.\n"
   ]
  },
  {
   "cell_type": "markdown",
   "id": "96156e6c-6efa-4781-a747-5ffab15fd01e",
   "metadata": {},
   "source": [
    "Q2:What is an object in Python?"
   ]
  },
  {
   "cell_type": "markdown",
   "id": "20d9398f-e12c-4797-af92-46f64e1c7101",
   "metadata": {},
   "source": [
    "Ans:\n",
    "\n",
    "* Objects are basic run time entities in an Object-Oriented System.\n",
    "* They are the instantiation of the class.\n",
    "* It may represent a person,place,an item ,an account that the program has to handle.\n",
    "* It has attributes and methods \n",
    "* Eg: Object student has name , age, id_no and so on. And methods like learning, going to college, sleeping, diet and so on.\n"
   ]
  },
  {
   "cell_type": "code",
   "execution_count": 5,
   "id": "53739adb-8436-4e0a-9244-8a8d07285f1a",
   "metadata": {},
   "outputs": [],
   "source": [
    "#Eg:\n",
    "class Person:\n",
    "    pass              #created an empty class\n",
    "            \n",
    "person1 = Person()    # created an object  (person1)   "
   ]
  },
  {
   "cell_type": "markdown",
   "id": "2f2c02e6-0f56-4400-bd9c-43f598763ef5",
   "metadata": {},
   "source": [
    "Q3:What is a class in Python?"
   ]
  },
  {
   "cell_type": "markdown",
   "id": "8e757f55-01ff-4c16-a7be-124293c64541",
   "metadata": {},
   "source": [
    "Ans:\n",
    "    \n",
    "* Classes are blueprints or direction on how to create an  object.\n",
    "* Once a class has been defined, we can create any number of objects belonging to that class.\n",
    "* Each object is associated with data of type class with which they are created. Thus a Class is  a collection objects of similar type.\n",
    "*          For Eg:  class Fruit  has members orange, apple , banana ,...\n",
    "* Parent class and Child Class. Or, Base class and derived class.\n"
   ]
  },
  {
   "cell_type": "markdown",
   "id": "fc43ad02-06d4-4f49-af6a-6517d30ee512",
   "metadata": {},
   "source": [
    "Q4:What are attributes and methods in a class?"
   ]
  },
  {
   "cell_type": "markdown",
   "id": "51906019-e56e-43cf-8715-23c2dd9fc367",
   "metadata": {},
   "source": [
    "Ans:\n",
    "    \n",
    "    \n",
    "* Class Attributes are the attributes that belong to the class itself rather than a particular object. Usually, we use class attributes to define the attributes that have a common value among all the objects inside the class.\n",
    "* For Eg: A class person will contains attributes like name,age, weight, height,etc.\n",
    "-------------------------------------------------------------\n",
    "    \n",
    "    \n",
    "* Class Methods are the methods that have access to the class attributes, but they can’t access specific instance attributes.\n",
    "* In other words, these methods are used to handle and process class attributes. However, they are not used on the object level, they are used on the class level.  \n",
    "* For Eg: A class student will have methods or functionalities like Entered_collge(), Exit_college() , Attendance(),performance()"
   ]
  },
  {
   "cell_type": "markdown",
   "id": "f1ea2181-cf61-4823-87e3-5fba8622c6ea",
   "metadata": {},
   "source": [
    "Q5:What is the difference between class variables and instance variables in Python?"
   ]
  },
  {
   "cell_type": "markdown",
   "id": "4ce62e57-8ae7-421b-b3a1-d07dcbec94f5",
   "metadata": {},
   "source": [
    "Ans:\n",
    "\n",
    "* A class variable has the same data for all instances of a class.\n",
    "* Class variables are defined within the class but outside of any class methods.\n",
    "* Changes made to the class variable affect all instances.\n",
    "* Class variables can be initialized either inside the class definition or outside the class definition.\n",
    "* Class variables are accessed using the class name, followed by the variable name.\n",
    "* Class variables are useful for storing data that is shared among all instances of a class, such as constants or default values.\n",
    "------------------------------------------------------------\n",
    "\n",
    "* A instance variable has unique data for all instances of a class.\n",
    "* Instance variables are defined within class methods, typically the constructor.\n",
    "* Changes made to the instance variable does not affect all instances.\n",
    "* Instance variables are typically initialized in the constructor of the class.\n",
    "* Instance variables are accessed using the instance name, followed by the variable name.\n"
   ]
  },
  {
   "cell_type": "code",
   "execution_count": 71,
   "id": "c5d808e8-7ebd-4c4e-aeed-26de1bc5203e",
   "metadata": {},
   "outputs": [],
   "source": [
    "#Eg: \n",
    "\n",
    "class Employee:\n",
    "    bonus = 10000                                          # class variable \n",
    "\n",
    "    def employee(self,employee_name,employee_id,salary):\n",
    "        self.employee_name = employee_name                 #instance variable\n",
    "        self.employee_id   = employee_id\n",
    "        self.salary        = salary"
   ]
  },
  {
   "cell_type": "markdown",
   "id": "9252987d-5f20-465d-b83d-cd16009d8acd",
   "metadata": {},
   "source": [
    "Q6:What is the purpose of the self parameter in Python class methods?"
   ]
  },
  {
   "cell_type": "markdown",
   "id": "b4410b39-0f14-4086-9bda-4226c2698150",
   "metadata": {},
   "source": [
    "Ans:\n",
    "    \n",
    "  \n",
    "* self is a keyword used to refer to the particular object or instance.\n",
    "* The self method is explicitly used every time we define a method.\n",
    "* It is also used to refer to a variable field within the class.\n",
    "* With this keyword, you can access the attributes and methods of the class in python. It binds the attributes with the given arguments. \n",
    "* We can create class without self keyword, but for the simplicity it's better to use 'self' to acces the variables."
   ]
  },
  {
   "cell_type": "markdown",
   "id": "b2e18ab8-b474-4bc4-82f9-611d017a859d",
   "metadata": {},
   "source": [
    "Q7:For a library management system, you have to design the \"Book\" class with OOP\n",
    "principles in mind. \n",
    "\n",
    "The “Book” class will have following attributes:\n",
    "\n",
    "a. title: Represents the title of the book.\n",
    "\n",
    "b. author: Represents the author(s) of the book.\n",
    "\n",
    "c. isbn: Represents the ISBN (International Standard Book Number) of the book.\n",
    "\n",
    "d. publication_year: Represents the year of publication of the book.\n",
    "\n",
    "e. available_copies: Represents the number of copies available for checkout.\n",
    "\n",
    "The class will also include the following methods:\n",
    "\n",
    "a. check_out(self): Decrements the available copies by one if there are copies\n",
    "available for checkout.\n",
    "\n",
    "b. return_book(self): Increments the available copies by one when a book is\n",
    "returned.\n",
    "\n",
    "c. display_book_info(self): Displays the information about the book, including its\n",
    "attributes and the number of available copies."
   ]
  },
  {
   "cell_type": "code",
   "execution_count": 72,
   "id": "2e9668d3-0ad2-425b-bb90-3e9b4e8e08f8",
   "metadata": {},
   "outputs": [],
   "source": [
    "class Book:\n",
    "    \n",
    "    def __init__(self,title,author,isbn,publication_year,available_copies):\n",
    "        self.title            = title\n",
    "        self.author           = author\n",
    "        self.isbn             = isbn\n",
    "        self.publication_year = publication_year\n",
    "        self.available_copies = available_copies\n",
    "        \n",
    "    def check_out(self):\n",
    "        print(f'The Book \"{self.title}\" has {self.available_copies} copies ')\n",
    "        if self.available_copies >=1:\n",
    "            print(f'{self.title} is available to check_out')\n",
    "            self.available_copies = self.available_copies - 1 \n",
    "        else:\n",
    "            print('Sorry! There is no available copy left.Try another book')\n",
    "        \n",
    "    def return_book(self):  \n",
    "        self.available_copies = self.available_copies + 1\n",
    "        print('Thank you for returning the book!')\n",
    "        \n",
    "    def  display_book_info(self): \n",
    "        print(f\"Details \")\n",
    "        print(\"-------------------------------------------------------\")\n",
    "        print(f\"Title of the Book:                                      {self.title}\")\n",
    "        print(f\"Author(s):                                              {self.author}\")\n",
    "        print(f\"ISBN (International Standard Book Number) of the book:  { self.isbn }\")\n",
    "        print(f\"The year of publication of the book:                    {self.publication_year}\")\n",
    "        print(f\"The number of copies available for checkout:            {self.available_copies}\")"
   ]
  },
  {
   "cell_type": "code",
   "execution_count": 73,
   "id": "3efea94e-26b6-4d35-b0da-af2a504b666a",
   "metadata": {},
   "outputs": [],
   "source": [
    "Book1 = Book('The Alchemist',\"Paulo Coelho\",'0-06-250217-4',1988, 4)\n",
    "Book2 = Book('Attitude Is Everything','Jeff Keller','978-9351772071',2015,0)\n",
    "Book3 = Book('Fundamentals of Applied Statistics',['S. C. Gupta ','V. K. Kapoor '],'978-8180547058',2014,3)"
   ]
  },
  {
   "cell_type": "code",
   "execution_count": 74,
   "id": "970c92b1-b822-4d9f-957a-901cf53ccc8a",
   "metadata": {},
   "outputs": [
    {
     "name": "stdout",
     "output_type": "stream",
     "text": [
      "The Book \"The Alchemist\" has 4 copies \n",
      "The Alchemist is available to check_out\n"
     ]
    }
   ],
   "source": [
    "Book1.check_out()"
   ]
  },
  {
   "cell_type": "code",
   "execution_count": 75,
   "id": "3a1cb1a2-0e75-4650-8e7d-acc4e3fcedcc",
   "metadata": {},
   "outputs": [
    {
     "name": "stdout",
     "output_type": "stream",
     "text": [
      "The Book \"Attitude Is Everything\" has 0 copies \n",
      "Sorry! There is no available copy left.Try another book\n"
     ]
    }
   ],
   "source": [
    "Book2.check_out()"
   ]
  },
  {
   "cell_type": "code",
   "execution_count": 76,
   "id": "1dfc3f00-6777-4b05-b49e-6a69a7d0fa8b",
   "metadata": {},
   "outputs": [
    {
     "name": "stdout",
     "output_type": "stream",
     "text": [
      "Thank you for returning the book!\n"
     ]
    }
   ],
   "source": [
    "Book2.return_book()"
   ]
  },
  {
   "cell_type": "code",
   "execution_count": 77,
   "id": "89863c0a-b9ca-42e4-9a9b-81f0428f22c6",
   "metadata": {},
   "outputs": [
    {
     "name": "stdout",
     "output_type": "stream",
     "text": [
      "Details \n",
      "-------------------------------------------------------\n",
      "Title of the Book:                                      Fundamentals of Applied Statistics\n",
      "Author(s):                                              ['S. C. Gupta ', 'V. K. Kapoor ']\n",
      "ISBN (International Standard Book Number) of the book:  978-8180547058\n",
      "The year of publication of the book:                    2014\n",
      "The number of copies available for checkout:            3\n"
     ]
    }
   ],
   "source": [
    "Book3.display_book_info()"
   ]
  },
  {
   "cell_type": "markdown",
   "id": "e7f64733-0e6f-443b-bb85-59efa71cf35f",
   "metadata": {},
   "source": [
    "Q8:For a ticket booking system, you have to design the \"Ticket\" class with OOP\n",
    "principles in mind. \n",
    "\n",
    "The “Ticket” class should have the following attributes:\n",
    "    \n",
    "a. ticket_id: Represents the unique identifier for the ticket.\n",
    "\n",
    "b. event_name: Represents the name of the event.\n",
    "\n",
    "c. event_date: Represents the date of the event.\n",
    "\n",
    "d. venue: Represents the venue of the event.\n",
    "\n",
    "e. seat_number: Represents the seat number associated with the ticket.\n",
    "\n",
    "f. price: Represents the price of the ticket.\n",
    "\n",
    "g. is_reserved: Represents the reservation status of the ticket.\n",
    "\n",
    "The class also includes the following methods:\n",
    "    \n",
    "a. reserve_ticket(self): Marks the ticket as reserved if it is not already reserved.\n",
    "\n",
    "b. cancel_reservation(self): Cancels the reservation of the ticket if it is already\n",
    "reserved.\n",
    "\n",
    "c. display_ticket_info(self): Displays the information about the ticket, including its\n",
    "attributes and reservation status."
   ]
  },
  {
   "cell_type": "code",
   "execution_count": 78,
   "id": "41a99917-d259-4bfd-aac1-89637d7d4635",
   "metadata": {},
   "outputs": [],
   "source": [
    "class Ticket:\n",
    "    \n",
    "    def __init__(self,ticket_id,event_name,event_date,venue,seat_number,price):\n",
    "        self.ticket_id   = ticket_id\n",
    "        self.event_name  = event_name\n",
    "        self.event_date  = event_date\n",
    "        self.venue       = venue\n",
    "        self.seat_number = seat_number\n",
    "        self.price       = price\n",
    "        self.is_reserved = False\n",
    "        \n",
    "    def reserve_ticket(self): \n",
    "        if  self.is_reserved != True:\n",
    "            self.is_reserved = True\n",
    "            print(f'Your ticket:{self.ticket_id } has been Reserved')\n",
    "        else:\n",
    "            print(f'Ticket:{self.ticket_id } is  Already Reserved')\n",
    "            \n",
    "        \n",
    "    def cancel_reservation(self):\n",
    "        if self.is_reserved == True:\n",
    "            confirm = int(input(f\"Do you want to Cancel reservation for ticket:{self.ticket_id } (YES:1/NO:0)\")) \n",
    "            if confirm == 1:\n",
    "                print(f\"Reservation for the ticket:{self.ticket_id } has been Cancelled\")\n",
    "                print(f'{ self.price} will not be refunded as per the t&C**')\n",
    "                      \n",
    "        else:\n",
    "            print(f\"{self.ticket_id } is not Reserved.\")      \n",
    "            \n",
    "            \n",
    "        \n",
    "    def display_ticket_info(self): \n",
    "        print(f'Welcome to  {self.event_name} ')\n",
    "        print('-------------------------------------------')\n",
    "        print('::::::::::::::::Ticket detalis:::::::::::::::')\n",
    "        print(f'Ticket ID:            {self.ticket_id}  ')\n",
    "        print(f'Venue :               { self.venue }') \n",
    "        print(f'Date :                { self.event_date}')              \n",
    "        print(f'Seat Number :         {self.seat_number}')\n",
    "        print(f\"Price:                { self.price  }\")\n",
    "        print(f'Reservation status :  { self.is_reserved}')\n",
    "        print(\"Come Let's enjoy Together!!!\")"
   ]
  },
  {
   "cell_type": "code",
   "execution_count": 79,
   "id": "f5ed79ef-4028-462f-950f-f927794837a4",
   "metadata": {},
   "outputs": [],
   "source": [
    "Ticket1 = Ticket(11462,'Musical Chair!', 'May 05 ,Wednesday 2023','Durbar Hall Ground','AS_412',1000)\n",
    "Ticket2 = Ticket(20010,'Musical Chair!', 'May 05 ,Wednesday 2023','Durbar Hall Ground','AP_024',1000)\n"
   ]
  },
  {
   "cell_type": "code",
   "execution_count": 80,
   "id": "2cca6a03-8e99-4c31-bcd1-922adf623e5e",
   "metadata": {},
   "outputs": [
    {
     "name": "stdout",
     "output_type": "stream",
     "text": [
      "Your ticket:11462 has been Reserved\n"
     ]
    }
   ],
   "source": [
    "Ticket1.reserve_ticket()"
   ]
  },
  {
   "cell_type": "code",
   "execution_count": 81,
   "id": "94686992-c262-4906-bd91-fa4ffb674ba7",
   "metadata": {},
   "outputs": [
    {
     "name": "stdout",
     "output_type": "stream",
     "text": [
      "Your ticket:20010 has been Reserved\n"
     ]
    }
   ],
   "source": [
    "Ticket2.reserve_ticket()"
   ]
  },
  {
   "cell_type": "code",
   "execution_count": 82,
   "id": "ce984586-7d0f-4547-a3f3-b1ed695d08a7",
   "metadata": {},
   "outputs": [
    {
     "name": "stdout",
     "output_type": "stream",
     "text": [
      "Ticket:11462 is  Already Reserved\n"
     ]
    }
   ],
   "source": [
    "Ticket1.reserve_ticket()"
   ]
  },
  {
   "cell_type": "code",
   "execution_count": 83,
   "id": "175ef780-db27-4fd2-aabb-90102a86be0b",
   "metadata": {},
   "outputs": [
    {
     "name": "stdout",
     "output_type": "stream",
     "text": [
      "Ticket:20010 is  Already Reserved\n"
     ]
    }
   ],
   "source": [
    "Ticket2.reserve_ticket()"
   ]
  },
  {
   "cell_type": "code",
   "execution_count": 85,
   "id": "0f57b77a-5883-4168-b287-74605316787e",
   "metadata": {},
   "outputs": [
    {
     "name": "stdin",
     "output_type": "stream",
     "text": [
      "Do you want to Cancel reservation for ticket:11462 (YES:1/NO:0) 1\n"
     ]
    },
    {
     "name": "stdout",
     "output_type": "stream",
     "text": [
      "Reservation for the ticket:11462 has been Cancelled\n",
      "1000 will not be refunded as per the t&C**\n"
     ]
    }
   ],
   "source": [
    "Ticket1.cancel_reservation()"
   ]
  },
  {
   "cell_type": "code",
   "execution_count": 86,
   "id": "d7b3e179-0bf0-4887-9733-9331fdcf91d8",
   "metadata": {},
   "outputs": [
    {
     "name": "stdin",
     "output_type": "stream",
     "text": [
      "Do you want to Cancel reservation for ticket:20010 (YES:1/NO:0) 1\n"
     ]
    },
    {
     "name": "stdout",
     "output_type": "stream",
     "text": [
      "Reservation for the ticket:20010 has been Cancelled\n",
      "1000 will not be refunded as per the t&C**\n"
     ]
    }
   ],
   "source": [
    "Ticket2.cancel_reservation()"
   ]
  },
  {
   "cell_type": "code",
   "execution_count": 87,
   "id": "221537aa-0c82-4c96-bc0a-b7d6227c3315",
   "metadata": {},
   "outputs": [
    {
     "name": "stdout",
     "output_type": "stream",
     "text": [
      "Welcome to  Musical Chair! \n",
      "-------------------------------------------\n",
      "::::::::::::::::Ticket detalis:::::::::::::::\n",
      "Ticket ID:            11462  \n",
      "Venue :               Durbar Hall Ground\n",
      "Date :                May 05 ,Wednesday 2023\n",
      "Seat Number :         AS_412\n",
      "Price:                1000\n",
      "Reservation status :  True\n",
      "Come Let's enjoy Together!!!\n"
     ]
    }
   ],
   "source": [
    "Ticket1.display_ticket_info()"
   ]
  },
  {
   "cell_type": "code",
   "execution_count": 88,
   "id": "354b5ec1-498e-4b65-83a1-82f7696075e9",
   "metadata": {},
   "outputs": [
    {
     "name": "stdout",
     "output_type": "stream",
     "text": [
      "Welcome to  Musical Chair! \n",
      "-------------------------------------------\n",
      "::::::::::::::::Ticket detalis:::::::::::::::\n",
      "Ticket ID:            20010  \n",
      "Venue :               Durbar Hall Ground\n",
      "Date :                May 05 ,Wednesday 2023\n",
      "Seat Number :         AP_024\n",
      "Price:                1000\n",
      "Reservation status :  True\n",
      "Come Let's enjoy Together!!!\n"
     ]
    }
   ],
   "source": [
    "Ticket2.display_ticket_info()"
   ]
  },
  {
   "cell_type": "markdown",
   "id": "e694ec7d-b2be-4a1e-a19e-d6379b0153ef",
   "metadata": {},
   "source": [
    "Q9:You are creating a shopping cart for an e-commerce website. Using OOP to model\n",
    "\n",
    "the \"ShoppingCart\" functionality the class should contain following attributes and\n",
    "methods:\n",
    "    \n",
    "a. items: Represents the list of items in the shopping cart.\n",
    "\n",
    "The class also includes the following methods:\n",
    "\n",
    "a. add_item(self, item): Adds an item to the shopping cart by appending it to the\n",
    "list of items.\n",
    "\n",
    "b. remove_item(self, item): Removes an item from the shopping cart if it exists in\n",
    "the list.\n",
    "\n",
    "c. view_cart(self): Displays the items currently present in the shopping cart.\n",
    "\n",
    "d. clear_cart(self): Clears all items from the shopping cart by reassigning an\n",
    "empty list to the items attribute."
   ]
  },
  {
   "cell_type": "code",
   "execution_count": 89,
   "id": "0aff8294-3c67-44b1-b138-e024a1336056",
   "metadata": {},
   "outputs": [],
   "source": [
    "class ShoppingCart:\n",
    "    def __init__(self):\n",
    "        self.items = []\n",
    "        \n",
    "        \n",
    "    def add_item(self,item):\n",
    "        if item in self.items:\n",
    "            print(f\"{item} is already in the your cart\")\n",
    "            \n",
    "        else:\n",
    "            self.items.append(item)\n",
    "            print(f\"{item} has been added to your cart\")\n",
    "            \n",
    "            \n",
    "            \n",
    "    def remove_item(self, item):\n",
    "        if item in self.items:\n",
    "            self.items.remove(item)\n",
    "            print(f\"{item} has been removed from your cart\")\n",
    "        else:\n",
    "            print('No item found to remove') \n",
    "        \n",
    "        \n",
    "        \n",
    "    def view_cart(self):\n",
    "        if self.items != []:\n",
    "            print('Items in the cart are:')\n",
    "            for i in self.items:\n",
    "                print(i)\n",
    "        else:  \n",
    "            print('Your cart is empty')\n",
    "\n",
    "            \n",
    "    def clear_cart(self):    \n",
    "        self.items = []\n",
    "        print ('Your cart is empty now!')  "
   ]
  },
  {
   "cell_type": "code",
   "execution_count": 90,
   "id": "6e75370d-abbf-401b-918d-0b912366948e",
   "metadata": {},
   "outputs": [],
   "source": [
    "# created 5 objects \n",
    "cart1 = ShoppingCart() \n",
    "cart2 = ShoppingCart()\n",
    "cart3 = ShoppingCart()\n",
    "cart4 = ShoppingCart()\n",
    "cart5 = ShoppingCart()"
   ]
  },
  {
   "cell_type": "code",
   "execution_count": 91,
   "id": "0f5ab11a-e5f6-46b6-9ec4-7f751e50ca35",
   "metadata": {},
   "outputs": [
    {
     "name": "stdout",
     "output_type": "stream",
     "text": [
      "Bag has been added to your cart\n"
     ]
    }
   ],
   "source": [
    "cart1.add_item('Bag')\n"
   ]
  },
  {
   "cell_type": "code",
   "execution_count": 92,
   "id": "42dad185-c4ff-40ff-8c14-c162336524d7",
   "metadata": {},
   "outputs": [
    {
     "name": "stdout",
     "output_type": "stream",
     "text": [
      "Shoe has been added to your cart\n"
     ]
    }
   ],
   "source": [
    "cart1.add_item('Shoe')"
   ]
  },
  {
   "cell_type": "code",
   "execution_count": 93,
   "id": "e0ffc732-d590-493a-bd80-35404052f240",
   "metadata": {},
   "outputs": [
    {
     "name": "stdout",
     "output_type": "stream",
     "text": [
      "Phone has been added to your cart\n"
     ]
    }
   ],
   "source": [
    "cart1.add_item('Phone')"
   ]
  },
  {
   "cell_type": "code",
   "execution_count": 94,
   "id": "d1a82965-662c-4dca-8d3a-f41e28946d2a",
   "metadata": {},
   "outputs": [
    {
     "name": "stdout",
     "output_type": "stream",
     "text": [
      "Bag is already in the your cart\n"
     ]
    }
   ],
   "source": [
    "cart1.add_item('Bag')"
   ]
  },
  {
   "cell_type": "code",
   "execution_count": 95,
   "id": "032e69dd-d716-4ba1-9383-f98be74cdb70",
   "metadata": {},
   "outputs": [
    {
     "name": "stdout",
     "output_type": "stream",
     "text": [
      "Shirt has been added to your cart\n"
     ]
    }
   ],
   "source": [
    "cart1.add_item('Shirt')"
   ]
  },
  {
   "cell_type": "code",
   "execution_count": 96,
   "id": "5ef5deb5-371a-4c88-a7f9-18817146d460",
   "metadata": {},
   "outputs": [
    {
     "name": "stdout",
     "output_type": "stream",
     "text": [
      "Shirt has been removed from your cart\n"
     ]
    }
   ],
   "source": [
    "cart1.remove_item('Shirt')"
   ]
  },
  {
   "cell_type": "code",
   "execution_count": 97,
   "id": "a42b8c27-1ab6-466f-9ed9-cf6b28d8d60a",
   "metadata": {},
   "outputs": [
    {
     "name": "stdout",
     "output_type": "stream",
     "text": [
      "No item found to remove\n"
     ]
    }
   ],
   "source": [
    "cart1.remove_item('laptop')"
   ]
  },
  {
   "cell_type": "code",
   "execution_count": 98,
   "id": "32173f11-d0c5-4a7d-ab36-fa0bcc8152d2",
   "metadata": {},
   "outputs": [
    {
     "name": "stdout",
     "output_type": "stream",
     "text": [
      "Items in the cart are:\n",
      "Bag\n",
      "Shoe\n",
      "Phone\n"
     ]
    }
   ],
   "source": [
    "cart1.view_cart()"
   ]
  },
  {
   "cell_type": "code",
   "execution_count": 99,
   "id": "3f40683b-1326-47ee-8571-8078534023b1",
   "metadata": {},
   "outputs": [
    {
     "name": "stdout",
     "output_type": "stream",
     "text": [
      "Your cart is empty now!\n"
     ]
    }
   ],
   "source": [
    "cart1.clear_cart()"
   ]
  },
  {
   "cell_type": "markdown",
   "id": "34a57aca-6882-4642-bd74-79164aa3b476",
   "metadata": {},
   "source": [
    "Q10:Imagine a school management system. You have to design the \"Student\" class using\n",
    "OOP concepts.\n",
    "\n",
    "The “Student” class has the following attributes:\n",
    "    \n",
    "a. name: Represents the name of the student.\n",
    "\n",
    "b. age: Represents the age of the student.\n",
    "\n",
    "c. grade: Represents the grade or class of the student.\n",
    "\n",
    "d. student_id: Represents the unique identifier for the student.\n",
    "\n",
    "e. attendance: Represents the attendance record of the student.\n",
    "\n",
    "The class should also include the following methods:\n",
    "    \n",
    "a. update_attendance(self, date, status): Updates the attendance record of the\n",
    "student for a given date with the provided status (e.g., present or absent).\n",
    "\n",
    "b. get_attendance(self): Returns the attendance record of the student.\n",
    "\n",
    "c. get_average_attendance(self): Calculates and returns the average\n",
    "attendance percentage of the student based on their attendance record."
   ]
  },
  {
   "cell_type": "code",
   "execution_count": 175,
   "id": "057075e5-495d-4fb7-8ebe-298df940f269",
   "metadata": {},
   "outputs": [],
   "source": [
    "class Student :\n",
    "    def __init__(self,name,age,grade,student_id):\n",
    "        self.name       = name\n",
    "        self.age        = age \n",
    "        self.grade      = grade\n",
    "        self.student_id = student_id\n",
    "        self.attendance = {}\n",
    "        \n",
    "        \n",
    "    def update_attendance(self, date, status):\n",
    "        self.attendance[date] = status\n",
    "        print(f\"Attendance {date} : {status} marked\")\n",
    "        \n",
    "        \n",
    "    def get_attendance(self): \n",
    "        return self.attendance\n",
    "        \n",
    "    def get_average_attendance(self):\n",
    "        \n",
    "        total_days = len(self.attendance)\n",
    "        no_of_present = sum(status == 'Present' for status in self.attendance.values())\n",
    "        no_of_absents = total_days -  no_of_present\n",
    "        \n",
    "        average = (no_of_present / total_days) * 100\n",
    "        print(\"Attendance Details\")\n",
    "        print(\"------------------\")\n",
    "        print(f\"Attendance Percentage:  {average}% \")\n",
    "        print(f\"Number of days present: {no_of_present} \")\n",
    "        print(f\"Total Working days:     {total_days} \")\n",
    "        print(\"Attendance days wise :\")\n",
    "        return self.attendance\n",
    "        \n",
    "        "
   ]
  },
  {
   "cell_type": "code",
   "execution_count": 176,
   "id": "d568b948-b0cb-4a47-9798-2855dd051879",
   "metadata": {},
   "outputs": [],
   "source": [
    "Student1 = Student('Anna',10,'A',4046)\n",
    "Student2 = Student('Elsa',10,'A +',4047)"
   ]
  },
  {
   "cell_type": "code",
   "execution_count": 177,
   "id": "f71d6d49-3f1b-4d5e-8899-11e55401f549",
   "metadata": {},
   "outputs": [
    {
     "name": "stdout",
     "output_type": "stream",
     "text": [
      "Attendance 23-01-2023 : Present marked\n",
      "Attendance 23-01-2023 : Present marked\n"
     ]
    }
   ],
   "source": [
    "Student1.update_attendance('23-01-2023','Present')\n",
    "Student2.update_attendance('23-01-2023','Present')"
   ]
  },
  {
   "cell_type": "code",
   "execution_count": 178,
   "id": "0a959ae6-716e-4463-b22d-0039a50713ee",
   "metadata": {},
   "outputs": [
    {
     "name": "stdout",
     "output_type": "stream",
     "text": [
      "Attendance 24-01-2023 : Present marked\n",
      "Attendance 24-01-2023 : Present marked\n"
     ]
    }
   ],
   "source": [
    "Student1.update_attendance('24-01-2023','Present')\n",
    "Student2.update_attendance('24-01-2023','Present')"
   ]
  },
  {
   "cell_type": "code",
   "execution_count": 179,
   "id": "ba75c8ee-1459-48fa-a497-110332bdc5d1",
   "metadata": {},
   "outputs": [
    {
     "name": "stdout",
     "output_type": "stream",
     "text": [
      "Attendance 25-01-2023 : Present marked\n",
      "Attendance 25-01-2023 : Present marked\n"
     ]
    }
   ],
   "source": [
    "Student1.update_attendance('25-01-2023','Present')\n",
    "Student2.update_attendance('25-01-2023','Present')"
   ]
  },
  {
   "cell_type": "code",
   "execution_count": 180,
   "id": "23ed5e96-a64a-46f9-bd57-6e86a6c16b0c",
   "metadata": {},
   "outputs": [
    {
     "name": "stdout",
     "output_type": "stream",
     "text": [
      "Attendance 26-01-2023 : Absent marked\n",
      "Attendance 26-01-2023 : Present marked\n"
     ]
    }
   ],
   "source": [
    "Student1.update_attendance('26-01-2023','Absent')\n",
    "Student2.update_attendance('26-01-2023','Present')"
   ]
  },
  {
   "cell_type": "code",
   "execution_count": 181,
   "id": "a5302dd3-7480-4282-a941-089a3196c351",
   "metadata": {},
   "outputs": [
    {
     "name": "stdout",
     "output_type": "stream",
     "text": [
      "Attendance 27-01-2023 : Present marked\n",
      "Attendance 27-01-2023 : Present marked\n"
     ]
    }
   ],
   "source": [
    "Student1.update_attendance('27-01-2023','Present')\n",
    "Student2.update_attendance('27-01-2023','Present')"
   ]
  },
  {
   "cell_type": "code",
   "execution_count": 182,
   "id": "06450f25-e60e-4da4-960f-d722a7b76520",
   "metadata": {},
   "outputs": [
    {
     "name": "stdout",
     "output_type": "stream",
     "text": [
      "Attendance 30-01-2023 : Present marked\n",
      "Attendance 30-01-2023 : Present marked\n"
     ]
    }
   ],
   "source": [
    "Student1.update_attendance('30-01-2023','Present')\n",
    "Student2.update_attendance('30-01-2023','Present')"
   ]
  },
  {
   "cell_type": "code",
   "execution_count": 183,
   "id": "15f6be80-35bb-433f-8d70-216d6a8bfe58",
   "metadata": {},
   "outputs": [
    {
     "name": "stdout",
     "output_type": "stream",
     "text": [
      "Attendance 31-01-2023 : Absent marked\n",
      "Attendance 31-01-2023 : Present marked\n"
     ]
    }
   ],
   "source": [
    "Student1.update_attendance('31-01-2023','Absent')\n",
    "Student2.update_attendance('31-01-2023','Present')"
   ]
  },
  {
   "cell_type": "code",
   "execution_count": 184,
   "id": "eaf2dd3f-ed60-44a8-9f90-8b0eeebea619",
   "metadata": {},
   "outputs": [
    {
     "name": "stdout",
     "output_type": "stream",
     "text": [
      "Attendance 01-02-2023 : Present marked\n",
      "Attendance 01-02-2023 : Present marked\n"
     ]
    }
   ],
   "source": [
    "Student1.update_attendance('01-02-2023','Present')\n",
    "Student2.update_attendance('01-02-2023','Present')"
   ]
  },
  {
   "cell_type": "code",
   "execution_count": 185,
   "id": "3749e8d6-595c-4cf5-9c80-5953a5d0538e",
   "metadata": {},
   "outputs": [
    {
     "name": "stdout",
     "output_type": "stream",
     "text": [
      "Attendance 02-02-2023 : Present marked\n",
      "Attendance 02-02-2023 : Present marked\n"
     ]
    }
   ],
   "source": [
    "Student1.update_attendance('02-02-2023','Present')\n",
    "Student2.update_attendance('02-02-2023','Present')"
   ]
  },
  {
   "cell_type": "code",
   "execution_count": 186,
   "id": "26f5d96b-861e-4856-b827-5d94f03af9be",
   "metadata": {},
   "outputs": [
    {
     "name": "stdout",
     "output_type": "stream",
     "text": [
      "Attendance 03-02-2023 : Present marked\n",
      "Attendance 03-02-2023 : Present marked\n"
     ]
    }
   ],
   "source": [
    "Student1.update_attendance('03-02-2023','Present')\n",
    "Student2.update_attendance('03-02-2023','Present')"
   ]
  },
  {
   "cell_type": "code",
   "execution_count": 187,
   "id": "dc655085-e176-4a2f-9199-ed622ccb3a8e",
   "metadata": {},
   "outputs": [
    {
     "name": "stdout",
     "output_type": "stream",
     "text": [
      "Attendance 04-02-2023 : Present marked\n",
      "Attendance 04-02-2023 : Present marked\n"
     ]
    }
   ],
   "source": [
    "Student1.update_attendance('04-02-2023','Present')\n",
    "Student2.update_attendance('04-02-2023','Present')"
   ]
  },
  {
   "cell_type": "code",
   "execution_count": 188,
   "id": "7313b9b4-3c6d-493d-af76-5457f3cd5b9b",
   "metadata": {},
   "outputs": [
    {
     "name": "stdout",
     "output_type": "stream",
     "text": [
      "Attendance 05-02-2023 : Present marked\n",
      "Attendance 05-02-2023 : Present marked\n"
     ]
    }
   ],
   "source": [
    "Student1.update_attendance('05-02-2023','Present')\n",
    "Student2.update_attendance('05-02-2023','Present')"
   ]
  },
  {
   "cell_type": "code",
   "execution_count": 189,
   "id": "712c41ab-4556-47fb-af07-138ea526520c",
   "metadata": {},
   "outputs": [
    {
     "data": {
      "text/plain": [
       "{'23-01-2023': 'Present',\n",
       " '24-01-2023': 'Present',\n",
       " '25-01-2023': 'Present',\n",
       " '26-01-2023': 'Absent',\n",
       " '27-01-2023': 'Present',\n",
       " '30-01-2023': 'Present',\n",
       " '31-01-2023': 'Absent',\n",
       " '01-02-2023': 'Present',\n",
       " '02-02-2023': 'Present',\n",
       " '03-02-2023': 'Present',\n",
       " '04-02-2023': 'Present',\n",
       " '05-02-2023': 'Present'}"
      ]
     },
     "execution_count": 189,
     "metadata": {},
     "output_type": "execute_result"
    }
   ],
   "source": [
    "Student1.get_attendance()"
   ]
  },
  {
   "cell_type": "code",
   "execution_count": 190,
   "id": "1a3dcfa4-09b0-4042-9d26-c209ff8312c1",
   "metadata": {},
   "outputs": [
    {
     "data": {
      "text/plain": [
       "{'23-01-2023': 'Present',\n",
       " '24-01-2023': 'Present',\n",
       " '25-01-2023': 'Present',\n",
       " '26-01-2023': 'Present',\n",
       " '27-01-2023': 'Present',\n",
       " '30-01-2023': 'Present',\n",
       " '31-01-2023': 'Present',\n",
       " '01-02-2023': 'Present',\n",
       " '02-02-2023': 'Present',\n",
       " '03-02-2023': 'Present',\n",
       " '04-02-2023': 'Present',\n",
       " '05-02-2023': 'Present'}"
      ]
     },
     "execution_count": 190,
     "metadata": {},
     "output_type": "execute_result"
    }
   ],
   "source": [
    "Student2.get_attendance()"
   ]
  },
  {
   "cell_type": "code",
   "execution_count": 191,
   "id": "f1ca2348-6f05-47ac-94e2-04dbd51d8817",
   "metadata": {},
   "outputs": [
    {
     "name": "stdout",
     "output_type": "stream",
     "text": [
      "Attendance Details\n",
      "------------------\n",
      "Attendance Percentage:  83.33333333333334% \n",
      "Number of days present: 10 \n",
      "Total Working days:     12 \n",
      "Attendance days wise :\n"
     ]
    },
    {
     "data": {
      "text/plain": [
       "{'23-01-2023': 'Present',\n",
       " '24-01-2023': 'Present',\n",
       " '25-01-2023': 'Present',\n",
       " '26-01-2023': 'Absent',\n",
       " '27-01-2023': 'Present',\n",
       " '30-01-2023': 'Present',\n",
       " '31-01-2023': 'Absent',\n",
       " '01-02-2023': 'Present',\n",
       " '02-02-2023': 'Present',\n",
       " '03-02-2023': 'Present',\n",
       " '04-02-2023': 'Present',\n",
       " '05-02-2023': 'Present'}"
      ]
     },
     "execution_count": 191,
     "metadata": {},
     "output_type": "execute_result"
    }
   ],
   "source": [
    "Student1.get_average_attendance()"
   ]
  },
  {
   "cell_type": "code",
   "execution_count": 192,
   "id": "a3de1920-f4d8-44f4-ac9c-f69f6e4dfd1e",
   "metadata": {},
   "outputs": [
    {
     "name": "stdout",
     "output_type": "stream",
     "text": [
      "Attendance Details\n",
      "------------------\n",
      "Attendance Percentage:  100.0% \n",
      "Number of days present: 12 \n",
      "Total Working days:     12 \n",
      "Attendance days wise :\n"
     ]
    },
    {
     "data": {
      "text/plain": [
       "{'23-01-2023': 'Present',\n",
       " '24-01-2023': 'Present',\n",
       " '25-01-2023': 'Present',\n",
       " '26-01-2023': 'Present',\n",
       " '27-01-2023': 'Present',\n",
       " '30-01-2023': 'Present',\n",
       " '31-01-2023': 'Present',\n",
       " '01-02-2023': 'Present',\n",
       " '02-02-2023': 'Present',\n",
       " '03-02-2023': 'Present',\n",
       " '04-02-2023': 'Present',\n",
       " '05-02-2023': 'Present'}"
      ]
     },
     "execution_count": 192,
     "metadata": {},
     "output_type": "execute_result"
    }
   ],
   "source": [
    "Student2.get_average_attendance()"
   ]
  }
 ],
 "metadata": {
  "kernelspec": {
   "display_name": "Python 3 (ipykernel)",
   "language": "python",
   "name": "python3"
  },
  "language_info": {
   "codemirror_mode": {
    "name": "ipython",
    "version": 3
   },
   "file_extension": ".py",
   "mimetype": "text/x-python",
   "name": "python",
   "nbconvert_exporter": "python",
   "pygments_lexer": "ipython3",
   "version": "3.10.6"
  }
 },
 "nbformat": 4,
 "nbformat_minor": 5
}
