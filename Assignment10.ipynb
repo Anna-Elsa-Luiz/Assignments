{
 "cells": [
  {
   "cell_type": "markdown",
   "id": "ab9b0588-d3db-4922-9c74-a7591ffdb493",
   "metadata": {},
   "source": [
    "Assignment 10"
   ]
  },
  {
   "cell_type": "markdown",
   "id": "d557e8b0-d93e-4d18-9545-97a434ef6224",
   "metadata": {},
   "source": [
    "Q1: What is the role of try and exception block?"
   ]
  },
  {
   "cell_type": "markdown",
   "id": "cee927d4-2de8-4027-9eb0-58575a6904e3",
   "metadata": {},
   "source": [
    "In Exception handling we use try and except block . \n",
    "\n",
    "try block contains the code that might raise an exception (what code can throw an error) . A try statement may have more than one except clause, to specify handlers for different exceptions. \n",
    "\n",
    "The except block contains the code that will be executed if an exception is raised. An except clause may name multiple exceptions as a parenthesized tuple"
   ]
  },
  {
   "cell_type": "markdown",
   "id": "28b47616-ef2a-4ed7-9951-b378b8eabde6",
   "metadata": {},
   "source": [
    "Q2:What is the syntax for a basic try-except block?"
   ]
  },
  {
   "cell_type": "code",
   "execution_count": 1,
   "id": "82f0dd53-8989-4605-85c0-100a112c0f5a",
   "metadata": {},
   "outputs": [
    {
     "name": "stdout",
     "output_type": "stream",
     "text": [
      "There is no Y\n"
     ]
    }
   ],
   "source": [
    "#Ans:\n",
    "\n",
    "try : \n",
    "    #what code can throw an error/ errors will be in 'try'\n",
    "    print(y) \n",
    "    \n",
    "except:\n",
    "    #Code to handle the exception or error arise in try block\n",
    "     print('There is no Y')"
   ]
  },
  {
   "cell_type": "markdown",
   "id": "acad25d5-ca63-4baf-9d74-6aa737bcbeeb",
   "metadata": {},
   "source": [
    "Q3:What happens if an exception occurs inside a try block and there is no matching\n",
    "except block?"
   ]
  },
  {
   "cell_type": "markdown",
   "id": "6c302b6f-4d38-4de1-b8f2-7cebc43831d6",
   "metadata": {},
   "source": [
    "Ans:\n",
    "\n",
    "It shows SyntaxError .\n",
    "\n",
    "A try clause must be followed by an except or a finally block.\n"
   ]
  },
  {
   "cell_type": "markdown",
   "id": "4806c2e4-3755-47db-8938-4f9cc3ff6b2f",
   "metadata": {},
   "source": [
    "Q4:What is the difference between using a bare except block and specifying a specific\n",
    "exception type?\n"
   ]
  },
  {
   "cell_type": "markdown",
   "id": "c2b295d0-58a5-4b27-957e-c82426f9ec05",
   "metadata": {},
   "source": [
    "\n",
    "\n",
    "Ans:\n",
    "\n",
    "The difference is that a bare except can catch any and all kind of exception, that in python is anything that is or inherit from BaseException that sit at the top of the exception hierarchy.\n",
    "\n",
    "While except Exception will catch only Exception itself or anything that inherit from it (the same apply for any particular exception you put there).\n",
    "\n",
    "\n",
    "\n"
   ]
  },
  {
   "cell_type": "markdown",
   "id": "3a5fd409-905f-4ed9-8f3b-c2a734126b9b",
   "metadata": {},
   "source": [
    "Q5:Can you have nested try-except blocks in Python? If yes, then give an example."
   ]
  },
  {
   "cell_type": "markdown",
   "id": "6c1ee210-2537-4b8d-bc3d-62ec5d5802e5",
   "metadata": {},
   "source": [
    "Ans: \n",
    "    \n",
    "Yes we can use nested try except clause in python.\n",
    "\n",
    "    "
   ]
  },
  {
   "cell_type": "code",
   "execution_count": 4,
   "id": "2f4f975b-5661-4fdd-9995-3024c50db93f",
   "metadata": {},
   "outputs": [
    {
     "name": "stdin",
     "output_type": "stream",
     "text": [
      "Enter a number 6\n"
     ]
    },
    {
     "name": "stdout",
     "output_type": "stream",
     "text": [
      "6.0\n",
      "100/ 6.0 = 16.666666666666668\n"
     ]
    }
   ],
   "source": [
    "#Eg:\n",
    "def division():\n",
    "    try:\n",
    "        x = float(input('Enter a number'))\n",
    "        print(x)\n",
    "        print('100/',x,'=',100/x )\n",
    "    except ZeroDivisionError:\n",
    "        try:\n",
    "            print(x)\n",
    "        finally:\n",
    "            print('100/0 is not defined')\n",
    "division()                                     "
   ]
  },
  {
   "cell_type": "markdown",
   "id": "529d03a4-a380-44c8-bc8b-dcf31e640b0d",
   "metadata": {},
   "source": [
    "Q6:Can we use multiple exception blocks, if yes then give an example"
   ]
  },
  {
   "cell_type": "code",
   "execution_count": 3,
   "id": "ffbf7505-e1aa-4e30-856f-9cddb11d9c33",
   "metadata": {},
   "outputs": [
    {
     "name": "stdin",
     "output_type": "stream",
     "text": [
      "Enter the number a: 45\n",
      "Enter the number b: fg\n"
     ]
    },
    {
     "name": "stdout",
     "output_type": "stream",
     "text": [
      "Error: Invalid input, please enter a float or integer value \n"
     ]
    }
   ],
   "source": [
    "#Ans:\n",
    "\n",
    "#Yes\n",
    "\n",
    "try:\n",
    "    \n",
    "    x = float(input(\"Enter the number a:\"))\n",
    "    y = float(input(\"Enter the number b:\"))\n",
    "    print('Division of  ' , x , ' / ', y , ' = ',x / y)\n",
    "    \n",
    "except ZeroDivisionError:\n",
    "    print(\"Error: Division by zero\")\n",
    "except ValueError:\n",
    "    print(\"Error: Invalid input, please enter a float or integer value \")\n",
    "except OverflowError:\n",
    "    print(\"Error: Calculation resulted in an overflow.\")"
   ]
  },
  {
   "cell_type": "markdown",
   "id": "74fc461a-b706-49db-9fb0-7ddd9cfa82fc",
   "metadata": {},
   "source": [
    "Q7:Write the reason due to which following errors are raised:\n",
    "    \n",
    "a. EOFError\n",
    "\n",
    "b. FloatingPointError\n",
    "\n",
    "c. IndexError\n",
    "\n",
    "d. MemoryError\n",
    "\n",
    "e. OverflowError\n",
    "\n",
    "f. TabError\n",
    "\n",
    "g. ValueError\n"
   ]
  },
  {
   "cell_type": "markdown",
   "id": "b59e7c59-faea-4200-8b48-7d55e9385565",
   "metadata": {},
   "source": [
    "Ans:\n",
    "    \n",
    "a.   EOFError is raised when one of the built-in functions input() or raw_input() hits an end-of-file condition (EOF) without reading any data.\n",
    "\n",
    "b.   FloatingPointError is raised by floating point operations that result in errors, when floating point exception control is turned on. OR,Raised when a floating point operation fails.\n",
    "\n",
    "c.   IndexError means that your code is trying to access an index that is invalid. ie,Raised when a sequence subscript (index) is out of range.\n",
    "\n",
    "d.   A MemoryError indicates that the Python interpreter has exhausted its memory allocation for our Python program. This might be due to a problem with the Python environment's setup or a problem with the program itself fetching too much stuff at once.\n",
    "\n",
    "e.   An OverflowError exception is raised when an arithmetic operation exceeds the limits to be represented.\n",
    "f.TabError is the inconsistent use of tabs and spaces in indentation. It occurs when you mix tabs and spaces to indent lines in a code block.\n",
    "\n",
    "g.   ValueError is raised when a function receives an argument of the correct type but an inappropriate value. "
   ]
  },
  {
   "cell_type": "markdown",
   "id": "304b6d0a-a00e-4281-8513-1cc393d4b8e3",
   "metadata": {},
   "source": [
    "Q8:Write code for the following given scenario and add try-exception block to it.\n",
    "\n",
    "a. Program to divide two numbers\n",
    "\n",
    "b. Program to convert a string to an integer\n",
    "\n",
    "c. Program to access an element in a list\n",
    "\n",
    "d. Program to handle a specific exception\n",
    "\n",
    "e. Program to handle any exceptio"
   ]
  },
  {
   "cell_type": "code",
   "execution_count": 38,
   "id": "dfcc2ab7-c8ea-4e12-85c9-a5602f266444",
   "metadata": {},
   "outputs": [
    {
     "name": "stdin",
     "output_type": "stream",
     "text": [
      "Enter the numerator a = 4\n",
      "Enter the denominator b= 5\n"
     ]
    },
    {
     "name": "stdout",
     "output_type": "stream",
     "text": [
      "a =  4.0\n",
      "b =  5.0\n",
      "Division: 4.0 / 5.0 =  0.8\n"
     ]
    }
   ],
   "source": [
    "#Ans:\n",
    "#a.\n",
    "\n",
    "def  divison():\n",
    "    a= float(input('Enter the numerator a ='))\n",
    "    b= float(input('Enter the denominator b='))\n",
    "    \n",
    "    try:\n",
    "        print('a = ', a)\n",
    "        print('b = ', b)\n",
    "        print('Division:',a ,'/' , b , '= ', a/b )\n",
    "        \n",
    "    except ZeroDivisionError:\n",
    "        print('Division:',a ,'/' , b , '=  Not defined')\n",
    "        print('Use denominator Except  0 ')\n",
    "        \n",
    "        \n",
    "divison()      \n",
    "    "
   ]
  },
  {
   "cell_type": "code",
   "execution_count": 13,
   "id": "0b6921b7-48d8-4669-b4e0-d12f0a52d40e",
   "metadata": {},
   "outputs": [
    {
     "name": "stdin",
     "output_type": "stream",
     "text": [
      "Enter a number 4\n"
     ]
    },
    {
     "name": "stdout",
     "output_type": "stream",
     "text": [
      "Successfully converted the  string into integer value \n",
      "<class 'int'>\n"
     ]
    }
   ],
   "source": [
    "#b\n",
    "\n",
    "Input = input('Enter a number')\n",
    "\n",
    "try:\n",
    "    int_Input = int(Input)\n",
    "    print('Successfully converted the  string into integer value ')\n",
    "    print(type(int_Input))\n",
    "except ValueError:\n",
    "    print('Invalid Input! Please Enter an integer value ')"
   ]
  },
  {
   "cell_type": "code",
   "execution_count": 2,
   "id": "0599e56d-e44f-443f-b458-bb37649888f2",
   "metadata": {},
   "outputs": [
    {
     "name": "stdout",
     "output_type": "stream",
     "text": [
      "Available Items are: ['Tomato', 'Cabbage', 'Carrot', 'Brinjal', 'Bitter Gourd', 'Spinach']\n",
      "Enter  o for Tomato ,  1 for Cabbage, 2  for Carrot,  3 for Brinjal,  4 for Bitter Gourd,  5 for Spinach\n"
     ]
    },
    {
     "name": "stdin",
     "output_type": "stream",
     "text": [
      "Enter the index number to purchase 1\n"
     ]
    },
    {
     "name": "stdout",
     "output_type": "stream",
     "text": [
      "Item at index 1 is: Cabbage\n",
      "Thank You for purchasing, Please visit us again!\n"
     ]
    }
   ],
   "source": [
    "#c\n",
    "\n",
    "def purchase():\n",
    "    \n",
    "    Grocery = ['Tomato','Cabbage','Carrot','Brinjal','Bitter Gourd', 'Spinach']\n",
    "    print('Available Items are:', Grocery)\n",
    "    print('Enter  o for Tomato ,  1 for Cabbage, 2  for Carrot,  3 for Brinjal,  4 for Bitter Gourd,  5 for Spinach')\n",
    "    \n",
    "    try:\n",
    "        \n",
    "        Input = int(input('Enter the index number to purchase'))\n",
    "        item = Grocery[Input]\n",
    "        print(\"Item at index {} is: {}\".format(Input, item))\n",
    "        print('Thank You for purchasing, Please visit us again!')\n",
    "            \n",
    "    except IndexError:\n",
    "         print(\"Invalid index! The list does not have an element at index {}\".format(Input))\n",
    "    except ValueError:\n",
    "         print(\"Invalid input! Please enter a valid integer index.\")\n",
    "            \n",
    "   \n",
    "        \n",
    "purchase()       "
   ]
  },
  {
   "cell_type": "code",
   "execution_count": 19,
   "id": "53a2c2b3-423f-4802-8767-aed35cc8875c",
   "metadata": {},
   "outputs": [
    {
     "name": "stdin",
     "output_type": "stream",
     "text": [
      "Enter the number1  5\n",
      "Enter the number2  0\n"
     ]
    },
    {
     "name": "stdout",
     "output_type": "stream",
     "text": [
      "Division by zero is not defined \n"
     ]
    }
   ],
   "source": [
    "#d\n",
    "\n",
    "try:\n",
    "    n= float(input('Enter the number1 '))\n",
    "    d= float(input('Enter the number2 '))\n",
    "\n",
    "    result = n/d\n",
    "    print('Results',result)\n",
    "    \n",
    "except ValueError:\n",
    "    print('Invalid input! Please enter an integer/float value')\n",
    "    \n",
    "except ZeroDivisionError:\n",
    "    print('Division by zero is not defined ')   "
   ]
  },
  {
   "cell_type": "code",
   "execution_count": 34,
   "id": "2a8bf9a0-f64f-4d2a-856e-3b06d51d15a2",
   "metadata": {},
   "outputs": [],
   "source": [
    "#e\n",
    "\n",
    "class Selection(Exception):\n",
    "    'Raised when the eligibilty doest not match'\n",
    "    pass\n",
    "\n",
    "   "
   ]
  },
  {
   "cell_type": "code",
   "execution_count": 37,
   "id": "cca05354-ce3c-4cc1-bc15-81187c60e6c9",
   "metadata": {},
   "outputs": [
    {
     "name": "stdin",
     "output_type": "stream",
     "text": [
      "Enter Your Name in CAPITAL LETTERS ANNA\n"
     ]
    },
    {
     "name": "stdout",
     "output_type": "stream",
     "text": [
      "Congratulations! You are selected \n"
     ]
    }
   ],
   "source": [
    "Selected_list = ['ANNA','ELSA','LUIZ']\n",
    "\n",
    "try:\n",
    "    Candidate = input(\"Enter Your Name in CAPITAL LETTERS\")\n",
    "    if Candidate  not in Selected_list:\n",
    "        raise Selection\n",
    "    else:\n",
    "        print('Congratulations! You are selected ')\n",
    "        \n",
    "except Selection:\n",
    "        print('Sorry!! You are not selected ')"
   ]
  },
  {
   "cell_type": "code",
   "execution_count": null,
   "id": "347d18cc-2667-4c4b-b46f-3e9babe751c9",
   "metadata": {},
   "outputs": [],
   "source": []
  }
 ],
 "metadata": {
  "kernelspec": {
   "display_name": "Python 3 (ipykernel)",
   "language": "python",
   "name": "python3"
  },
  "language_info": {
   "codemirror_mode": {
    "name": "ipython",
    "version": 3
   },
   "file_extension": ".py",
   "mimetype": "text/x-python",
   "name": "python",
   "nbconvert_exporter": "python",
   "pygments_lexer": "ipython3",
   "version": "3.10.6"
  }
 },
 "nbformat": 4,
 "nbformat_minor": 5
}
