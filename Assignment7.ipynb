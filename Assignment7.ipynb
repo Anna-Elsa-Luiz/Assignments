{
 "cells": [
  {
   "cell_type": "markdown",
   "id": "9d0c5771-7ea5-4a65-81e2-52868aa12227",
   "metadata": {},
   "source": [
    "21 May\n",
    "\n",
    "Python Basic - 2"
   ]
  },
  {
   "cell_type": "markdown",
   "id": "23d87375-0420-4756-9e59-f5bec6f629e1",
   "metadata": {},
   "source": [
    "Q1:Create two int type variables, apply addition, subtraction, division and multiplications\n",
    "and store the results in variables. Then print the data in the following format by calling the\n",
    "variables:\n",
    "\n",
    "First variable is __ & second variable is __.\n",
    "\n",
    "Addition: __ + __ = __\n",
    "\n",
    "Subtraction: __ - __ = __\n",
    "\n",
    "Multiplication: __ * __ = __\n",
    "\n",
    "Division: __ / __ = __\n",
    "\n"
   ]
  },
  {
   "cell_type": "code",
   "execution_count": 18,
   "id": "7c4ebf6e-174a-4c69-a1b8-66f5894207d6",
   "metadata": {},
   "outputs": [
    {
     "name": "stdout",
     "output_type": "stream",
     "text": [
      "First variable is  5 & second variable is 6\n",
      "Addition: 5 + 6 = 11\n",
      "Subtraction: 5  - 6 = -1\n",
      "Addition:  5  *  6 = 30\n",
      "Addition:  5  /  6 = 0.8333333333333334\n"
     ]
    }
   ],
   "source": [
    "a=5\n",
    "b=6\n",
    "Sum= a + b\n",
    "Difference= a - b\n",
    "Multiplication= a * b\n",
    "Division= a / b\n",
    "   \n",
    "print(\"First variable is \" , a , \"&\" + \" second variable is\" , b )\n",
    "print(\"Addition:\", a ,\"+\", b, \"=\",Sum )\n",
    "print(\"Subtraction:\" ,a, \" -\", b ,\"=\",Difference)\n",
    "print(\"Addition: \"  ,a ,\" * \",  b ,\"=\",Multiplication )\n",
    "print(\"Addi: \",a,\" / \",b ,\"=\",Division)\n"
   ]
  },
  {
   "cell_type": "markdown",
   "id": "6b57eca2-08a7-465e-93e0-a7f2ee2d872d",
   "metadata": {},
   "source": [
    "Q2:What is the difference between the following operators:\n",
    "    \n",
    "(i) ‘/’ & ‘//’\n",
    "\n",
    "(ii) ‘**’ & ‘^’"
   ]
  },
  {
   "cell_type": "markdown",
   "id": "9056bbe7-cde1-4ce0-94ad-5bfef4ce1c36",
   "metadata": {},
   "source": [
    "//-----> floor division operator which does not contain the decimal part after the division.\n",
    "\n",
    "/-----> division operator which contains the decimal part after the division\n"
   ]
  },
  {
   "cell_type": "code",
   "execution_count": 19,
   "id": "94910064-96ae-4667-b78a-fc98bf673eab",
   "metadata": {},
   "outputs": [
    {
     "name": "stdout",
     "output_type": "stream",
     "text": [
      "1.6666666666666667\n",
      "1\n"
     ]
    }
   ],
   "source": [
    "#For eg: \n",
    "\n",
    "\n",
    "print(5/3)        \n",
    "print(5//3) \n"
   ]
  },
  {
   "cell_type": "markdown",
   "id": "e0eb4d62-c439-49c5-b49a-0d4def7d2794",
   "metadata": {},
   "source": [
    "*-----> multiplication operator \n",
    "\n",
    "^----->XOR operator which compares each bit of the first operand with the other.\n"
   ]
  },
  {
   "cell_type": "code",
   "execution_count": 7,
   "id": "cd961fa1-9e46-411b-9a5b-1790006c1fec",
   "metadata": {},
   "outputs": [
    {
     "name": "stdout",
     "output_type": "stream",
     "text": [
      "6\n",
      "1\n"
     ]
    }
   ],
   "source": [
    "# For eg:  \n",
    "print(2*3)\n",
    "print(2^3)    "
   ]
  },
  {
   "cell_type": "markdown",
   "id": "31b4e9ec-ec7d-41f2-9a79-5699395f5937",
   "metadata": {},
   "source": [
    "2---->0 0 1 0\n",
    "\n",
    "3---->0 0 1 1\n",
    "\n",
    "------------------\n",
    "    0 0 0 1 (XOR)\n"
   ]
  },
  {
   "cell_type": "markdown",
   "id": "a9adefc8-dca8-47fb-92a9-d0872cc07a1f",
   "metadata": {},
   "source": [
    " \n",
    "Q3: List the logical operators.\n"
   ]
  },
  {
   "cell_type": "markdown",
   "id": "99b165cc-21f5-4218-b7ac-f001ff653e42",
   "metadata": {},
   "source": [
    "Ans:\n",
    "\n",
    "Logical operators are and (True only when every input is true ),  or (True when one of the inputs is true ), not (complement of the input)."
   ]
  },
  {
   "cell_type": "markdown",
   "id": "6a961a23-4011-4148-9f5f-1095e9da27dc",
   "metadata": {},
   "source": [
    "Q4: Explain right shift operator and left shift operator with examples.\n"
   ]
  },
  {
   "cell_type": "markdown",
   "id": "e195ebc1-d3b5-407a-aebd-8ce86a1c4ba7",
   "metadata": {},
   "source": [
    "They are bitwise shift  operator which moves the bits of an integer or enumeration type expression to the right called the Right Shift operator(>>) and to the left is called the Left Shift operator(<<).\n",
    " Right shift operator----> Helps to speed up the division part/power.\n",
    " Left Shift Operator -----> Helps to speed up the multiplication by the power of 2.\n",
    " \n",
    " \n",
    "\n"
   ]
  },
  {
   "cell_type": "code",
   "execution_count": 20,
   "id": "0b58d9f4-2fab-4aab-bc80-5942ccb3822a",
   "metadata": {},
   "outputs": [],
   "source": [
    "#Eg:        Right Shift operator                    Left Shift operator \n",
    "#           ------------------------               -------------------------\n",
    "#           A =  12 =  1 1 0 0                      B = 12 =  1 1 0 0\n",
    "#           A>>2                                    B<<2\n",
    "#           o/p--->     0 0 1 1   = 3               o/p--->   1 1 0 0 0 0  = 48 \n"
   ]
  },
  {
   "cell_type": "markdown",
   "id": "e4aecfeb-6f0e-4016-9a20-d428e82bb34c",
   "metadata": {},
   "source": [
    "Q5:Create a list containing int type data of length 15. Then write a code to check if 10 is\n",
    "present in the list or not"
   ]
  },
  {
   "cell_type": "code",
   "execution_count": 10,
   "id": "5eedf19d-6d05-424f-bd7e-d0bc3a8f6624",
   "metadata": {},
   "outputs": [
    {
     "name": "stdout",
     "output_type": "stream",
     "text": [
      "It is in the list \n"
     ]
    }
   ],
   "source": [
    "List =[1,2,3,4,5,6,7,8,9,10,11,12,13,14,15]\n",
    "\n",
    "if   10 in List:\n",
    "    print(\"It is in the list \")\n",
    "else:\n",
    "    print(\"It  is not in the list \")\n",
    "    \n"
   ]
  },
  {
   "cell_type": "code",
   "execution_count": null,
   "id": "70732285-3b73-4ac5-82c9-cb5c1d7d73c7",
   "metadata": {},
   "outputs": [],
   "source": []
  }
 ],
 "metadata": {
  "kernelspec": {
   "display_name": "Python 3 (ipykernel)",
   "language": "python",
   "name": "python3"
  },
  "language_info": {
   "codemirror_mode": {
    "name": "ipython",
    "version": 3
   },
   "file_extension": ".py",
   "mimetype": "text/x-python",
   "name": "python",
   "nbconvert_exporter": "python",
   "pygments_lexer": "ipython3",
   "version": "3.10.6"
  }
 },
 "nbformat": 4,
 "nbformat_minor": 5
}
