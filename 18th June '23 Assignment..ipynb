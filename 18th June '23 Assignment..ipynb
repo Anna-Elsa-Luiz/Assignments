{
 "cells": [
  {
   "cell_type": "markdown",
   "id": "eeb9f7d4-88cc-43a7-b59c-99da392dde04",
   "metadata": {},
   "source": [
    "Assignment 11 "
   ]
  },
  {
   "cell_type": "markdown",
   "id": "ba55b788-1c04-4fbb-843c-5fa2c3ae38db",
   "metadata": {},
   "source": [
    "Q1:What is the role of the 'else' block in a try-except statement? Provide an example\n",
    "scenario where it would be useful"
   ]
  },
  {
   "cell_type": "markdown",
   "id": "95eae7f0-f992-4e13-997e-c616dae0a4e2",
   "metadata": {},
   "source": [
    "Ans:\n",
    "    \n",
    "* If there is no error occuring in the try block ,then the program will execute the else block instead of except block. \n",
    "* The else block allows you run code without errors."
   ]
  },
  {
   "cell_type": "code",
   "execution_count": 28,
   "id": "84fe74c2-3e5f-45cb-93d7-ca9b6b35905d",
   "metadata": {},
   "outputs": [
    {
     "name": "stdout",
     "output_type": "stream",
     "text": [
      "There is no z\n"
     ]
    }
   ],
   "source": [
    "#eg:\n",
    "try : \n",
    "    \n",
    "    print(z) \n",
    "    \n",
    "except:\n",
    "    print('There is no z') \n",
    "    \n",
    "else:\n",
    "    print('No Error')\n"
   ]
  },
  {
   "cell_type": "code",
   "execution_count": 29,
   "id": "8f88ba28-fbf8-460a-ad4f-5f952414f313",
   "metadata": {},
   "outputs": [
    {
     "name": "stdout",
     "output_type": "stream",
     "text": [
      "10\n",
      "No Error\n"
     ]
    }
   ],
   "source": [
    "#eg:\n",
    "try : \n",
    "    y=10\n",
    "    print(y) \n",
    "    \n",
    "except:\n",
    "    print('There is no Y') \n",
    "    \n",
    "else:\n",
    "    print('No Error')"
   ]
  },
  {
   "cell_type": "markdown",
   "id": "9fddb0c1-b92d-4e7b-94c2-c9f0a0314beb",
   "metadata": {},
   "source": [
    "Q2:Can a try-except block be nested inside another try-except block? Explain with an\n",
    "example.\n"
   ]
  },
  {
   "cell_type": "markdown",
   "id": "1ce6d286-59f3-4772-bbee-bf36f10d01a7",
   "metadata": {},
   "source": [
    "Ans: Yes we can use nested try except blocks.\n",
    "\n"
   ]
  },
  {
   "cell_type": "code",
   "execution_count": 30,
   "id": "d43d8ffc-945d-4810-8629-a5dcbe82dd15",
   "metadata": {},
   "outputs": [
    {
     "name": "stdin",
     "output_type": "stream",
     "text": [
      "Enter the numerator:  4\n",
      "Enter the denominator:  0\n"
     ]
    },
    {
     "name": "stdout",
     "output_type": "stream",
     "text": [
      "Error: Division by zero is not allowed.\n"
     ]
    }
   ],
   "source": [
    "#Eg:\n",
    "try:\n",
    "    numerator = int(input(\"Enter the numerator: \"))\n",
    "    denominator = int(input(\"Enter the denominator: \"))\n",
    "\n",
    "    try:\n",
    "        result = numerator / denominator\n",
    "        print(f\"Result: {result}\")\n",
    "    except ZeroDivisionError:\n",
    "        print(\"Error: Division by zero is not allowed.\")\n",
    "        \n",
    "except ValueError:\n",
    "    print(\"Error: Invalid input. Please enter integers.\")"
   ]
  },
  {
   "cell_type": "markdown",
   "id": "3d8aad51-3a19-4bac-9548-3fa11b2bd011",
   "metadata": {},
   "source": [
    "Q3:How can you create a custom exception class in Python? Provide an example that\n",
    "demonstrates its usage.\n"
   ]
  },
  {
   "cell_type": "markdown",
   "id": "1095fc34-7b64-4133-8bae-f47284d16e6f",
   "metadata": {},
   "source": [
    "Ans:\n",
    "    \n",
    "    \n",
    "In Python, we can define custom exceptions by creating a new class that is derived from the built-in Exception class.\n",
    "\n",
    "Here's the syntax to define custom exceptions,\n",
    "\n"
   ]
  },
  {
   "cell_type": "code",
   "execution_count": 31,
   "id": "1596e6ea-ec39-423a-b68a-0c8829337530",
   "metadata": {},
   "outputs": [],
   "source": [
    "class CustomError(Exception):\n",
    "    ...\n",
    "    pass\n",
    "\n",
    "try:\n",
    "   ...\n",
    "\n",
    "except CustomError:\n",
    "    ...\n",
    "#Here, CustomError is a user-defined error which inherits from the Exception class.    "
   ]
  },
  {
   "cell_type": "code",
   "execution_count": 32,
   "id": "74370fa1-474e-4b93-9ddf-cb06a906eb20",
   "metadata": {},
   "outputs": [
    {
     "name": "stdin",
     "output_type": "stream",
     "text": [
      "Enter the eligibility (  BSC Maths,  BSC Stat, BSC CA ) BsC MathS\n"
     ]
    },
    {
     "name": "stdout",
     "output_type": "stream",
     "text": [
      "You are eligible \n"
     ]
    }
   ],
   "source": [
    "#eg:\n",
    "\n",
    "class Admission(Exception):\n",
    "    'Raised when the eligibilty doest not match'\n",
    "    pass\n",
    "\n",
    "list = ['BSC MATHS','BSC STAT','BSC CA']\n",
    "\n",
    "try:\n",
    "    eligibilty = input(\"Enter the eligibility (  BSC Maths,  BSC Stat, BSC CA )\").upper()\n",
    "    if eligibilty  not in list:\n",
    "           raise Admission\n",
    "    else:\n",
    "        print('You are eligible ')\n",
    "        \n",
    "except Admission:\n",
    "    print('You are not  eligible ')"
   ]
  },
  {
   "cell_type": "markdown",
   "id": "6605e6e0-134e-45fc-88f9-3dcf4323bb17",
   "metadata": {},
   "source": [
    "Q4: What are some common exceptions that are built-in to Python?\n"
   ]
  },
  {
   "cell_type": "markdown",
   "id": "875a25fe-dd32-453a-ad1c-01a954f66bd1",
   "metadata": {},
   "source": [
    "Ans:\n",
    "\n",
    "* BaseException: The base class for all built-in exceptions.\n",
    "* Exception: The base class for all non-exit exceptions.\n",
    "* ArithmeticError: Raised for any arithmetic errors.\n",
    "* BufferError: Raised when operations on a buffer are not possible.\n",
    "* LookupError: Raised when a mapping (dictionary) key or sequence index is not found.\n",
    "* AssertionError: Raised when an assert statement fails.\n",
    "* AttributeError: Raised when attribute reference or assignment fails.\n",
    "* EOFError: Raised when the input() function hits an end-of-file condition (EOF).\n",
    "* FloatingPointError: Raised when a floating point operation fails.\n",
    "* GeneratorExit: Raised when a generator or coroutine is closed.\n",
    "* ImportError: Raised when the import statement fails to find the module definition.\n",
    "* ModuleNotFoundError: A subclass of ImportError, raised when an import statement fails to find the module.\n",
    "* IndexError: Raised when a sequence subscript (index) is out of range.\n",
    "* KeyError: Raised when a dictionary key is not found.\n",
    "* KeyboardInterrupt: Raised when the user interrupts program execution (usually by pressing Ctrl+C).\n",
    "* MemoryError: Raised when an operation runs out of memory.\n",
    "* NameError: Raised when a local or global name is not found.\n",
    "* NotImplementedError: Raised when an abstract method requiring an override in an inherited class is not provided.\n",
    "* OSError: Raised when a system-related error occurs.\n",
    "* OverflowError: Raised when the result of an arithmetic operation is too large to be expressed.\n",
    "* RecursionError: Raised when the maximum recursion depth has been exceeded.\n",
    "* ReferenceError: Raised when a weak reference proxy is used to access a garbage collected referent.\n",
    "* RuntimeError: Raised when an error is detected that doesn’t fall in any of the other categories.\n",
    "* StopIteration: Raised by built-in function next() and an iterator‘s __next__() method to signal that there are no further items.\n",
    "* StopAsyncIteration: Raised by an asynchronous iterator object’s __anext__() method to stop the iteration.\n",
    "* SyntaxError: Raised by the parser when a syntax error is encountered.\n",
    "* IndentationError: Raised when there is incorrect indentation.\n",
    "* TabError: Raised when indentation contains mixed tabs and spaces.\n",
    "* SystemError: Raised when the interpreter finds an internal problem.\n",
    "* SystemExit: Raised by the sys.exit() function.\n",
    "* TypeError: Raised when an operation or function is applied to an object of inappropriate type.\n",
    "* UnboundLocalError: Raised when a local variable is referenced before it has been assigned a value.\n",
    "* UnicodeError: Raised when a Unicode-related encoding or decoding error occurs.\n",
    "* UnicodeEncodeError: Raised when a Unicode-related error occurs during encoding.\n",
    "* UnicodeDecodeError: Raised when a Unicode-related error occurs during decoding.\n",
    "* UnicodeTranslateError: Raised when a Unicode-related error occurs during translating.\n",
    "* ValueError: Raised when a built-in operation or function receives an argument that has the right type but an inappropriate value.\n",
    "* ZeroDivisionError: Raised when the second argument of a division or modulo operation is zero.\n",
    "* EnvironmentError: Base class for exceptions that can occur outside the Python system.\n",
    "* IOError: Raised when an I/O operation (such as a print statement, the built-in open() function or a method of a file object) fails for an I/O-related reason."
   ]
  },
  {
   "cell_type": "markdown",
   "id": "5cd09925-7b80-4105-b4ca-02ab215786a7",
   "metadata": {},
   "source": [
    "Q5: What is logging in Python, and why is it important in software development?"
   ]
  },
  {
   "cell_type": "markdown",
   "id": "c7b55435-d7bb-4be4-9535-37b3085e7422",
   "metadata": {},
   "source": [
    "Ans:\n",
    " \n",
    "* Logging is a technique for monitoring events that take place when some software is in use.\n",
    "* For the creation, operation, and debugging of software, logging is crucial.\n",
    "There are very little odds that you would find the source of the issue if your programme fails and you don't have any logging records.\n",
    "Additionally, it will take a lot of time to identify the cause.  \n",
    "\n",
    "\n",
    "Logging is a way to store information about your script and track events that occur. When writing any complex script in Python, logging is essential for debugging software as you develop it. Without logging, finding the source of a problem in your code may be extremely time consuming.    "
   ]
  },
  {
   "cell_type": "markdown",
   "id": "d61a4ac6-39d6-400f-a7e0-27f9159b9618",
   "metadata": {},
   "source": [
    "Q6:  Explain the purpose of log levels in Python logging and provide examples of when\n",
    "each log level would be appropriate.\n"
   ]
  },
  {
   "cell_type": "markdown",
   "id": "db9f7857-ed0e-4a59-94a1-0c8bc2eecc81",
   "metadata": {},
   "source": [
    "Ans:\n",
    "\n",
    "* Python logging, log levels are used to categorize and prioritize log messages based on their severity. \n",
    "* They provide a way to control the verbosity and filtering of log output.\n",
    "* Python's logging module provides several predefined log levels, each serving a specific purpose. \n",
    "* Here are the commonly used log levels and examples of when each level would be appropriate:\n",
    "\n",
    "\n",
    "# DEBUG \n",
    "---------\n",
    "* The DEBUG level is the lowest level and is used for detailed debugging information.\n",
    "* It is typically used during development and debugging to provide fine-grained details about program execution.\n",
    "* Example usage: Logging variable values, function calls, or intermediate steps in a complex algorithm.\n",
    "\n",
    "# INFO  \n",
    "---------\n",
    "* The INFO level is used to provide general information about the program's execution.\n",
    "* It gives important updates and progress information that can be useful for understanding the program's behavior.\n",
    "* Example usage: Logging application startup information, successful operation completion, or general informative messages.\n",
    "\n",
    "\n",
    "# WARNING \n",
    "----------\n",
    "* The WARNING level indicates potentially harmful or unexpected events that are not necessarily errors.\n",
    "* It signifies issues that could cause problems or might require attention but do not prevent the program from running.\n",
    "* Example usage: Logging deprecated feature usage, non-critical configuration warnings, or recoverable errors.\n",
    "\n",
    "\n",
    "# ERROR  \n",
    "---------\n",
    "* The ERROR level is used to indicate errors that caused a specific operation to fail.\n",
    "* It represents more severe issues that prevent the program from executing a particular function or operation.\n",
    "* Example usage: Logging failed operations, exceptions that are caught and handled, or critical errors that require immediate attention.\n",
    "\n",
    "\n",
    "\n",
    "# CRITICAL ERROR \n",
    "-----------------\n",
    "* The CRITICAL level is the highest level and represents critical errors that might result in the program's termination.\n",
    "* It signifies severe failures or conditions that require immediate action or intervention.\n",
    "* Example usage: Logging unrecoverable errors, system-wide failures, or critical security events.\n"
   ]
  },
  {
   "cell_type": "markdown",
   "id": "d7e03723-8a03-4d2b-a41b-45c6f3223fa6",
   "metadata": {},
   "source": [
    "Q7:  What are log formatters in Python logging, and how can you customise the log\n",
    "message format using formatters?\n"
   ]
  },
  {
   "cell_type": "markdown",
   "id": "e2ee27de-3a1a-41df-becd-b4c59e1b1594",
   "metadata": {},
   "source": [
    "Ans:\n",
    "    \n",
    "* In Python logging, log formatters are used to define the format of log messages that are emitted by the logging system. They allow you to customize the appearance of log records, specifying which information should be included in each log message and how it should be formatted.\n",
    "\n",
    "* The logging module provides the Formatter class, which is used to create log formatters. This class allows you to define a format string that determines the structure of the log messages. The format string can contain placeholders that are replaced with actual values from the log record when a message is logged. \n",
    "\n",
    "\n",
    "    \n"
   ]
  },
  {
   "cell_type": "code",
   "execution_count": null,
   "id": "9a73932f-2924-4236-8a4a-d58c3f403bcc",
   "metadata": {},
   "outputs": [],
   "source": [
    "import logging\n",
    "\n",
    "# Create a custom log formatter\n",
    "formatter = logging.Formatter('%(asctime)s - %(name)s - %(levelname)s - %(message)s')\n",
    "\n",
    "Create a logger\n",
    "logger = logging.getLogger('my_logger')\n",
    "logger.setLevel(logging.ERROR)\n",
    "\n",
    "# Create a file handler and set the formatter\n",
    "file_handler = logging.FileHandler('my_logs.log')\n",
    "file_handler.setFormatter(formatter)\n",
    "\n",
    "# Add the file handler to the logger\n",
    "logger.addHandler(file_handler)\n",
    "\n",
    "#Log some messages\n",
    "logger.debug('This is a debug message')\n",
    "logger.info('This is an info message')\n",
    "logger.warning('This is a warning message')\n",
    "logger.error('This is an error message')\n",
    "logger.critical('This is a critical message')\n"
   ]
  },
  {
   "cell_type": "markdown",
   "id": "10f83f8a-8849-440b-ac12-75f5212dbf6d",
   "metadata": {},
   "source": [
    "Q8: How can you set up logging to capture log messages from multiple modules or\n",
    "classes in a Python application?"
   ]
  },
  {
   "cell_type": "markdown",
   "id": "8f0bdfc3-d51f-47c0-9f9e-c9946f066075",
   "metadata": {},
   "source": [
    "#Ans:\n",
    "\n",
    "Steps\n",
    "-----\n",
    "\n",
    "1. Import the logging module\n",
    "2. Configure the logging system. This step sets the format, log level, and destination for the log messages. You can add this code to a configuration file or place it in a central    location like your main script.\n",
    "3. Add logging to your modules or classes. In each module or class where you want to log messages, add the following code:\n",
    "    * logger = logging.getLogger(__name__)\n",
    "4. This retrieves a logger object using the current module or class name. You can also use a custom name if desired.\n",
    "5. Start logging messages. Now you can log messages using the logger object in your code.\n",
    "   * You can use different log levels depending on the severity of the message.\n",
    "6. Set the logging level for each module or class. By default, the logging level is set to WARNING, which means only log messages with a severity level of WARNING or higher will be captured. If you want to capture messages with a lower severity level, you can set the logging level explicitly for each module or class.\n",
    "7. Specify the log file (optional). By default, the log messages are displayed on the console. If you want to store them in a file, you can specify the file path in the basicConfig call.\n"
   ]
  },
  {
   "cell_type": "markdown",
   "id": "50d90a8f-9461-4653-b107-cb74dc26a791",
   "metadata": {},
   "source": [
    "Q9: What is the difference between the logging and print statements in Python? When\n",
    "should you use logging over print statements in a real-world application?"
   ]
  },
  {
   "cell_type": "markdown",
   "id": "f518fca6-e202-4612-aef0-969fda83431b",
   "metadata": {},
   "source": [
    "Ans:\n",
    "    \n",
    "* Print( ): Display console output for ordinary usage of a command line script or program.\n",
    "* Logging is a means of tracking events that happen when some software runs. The software’s developer adds logging calls to their code to indicate that certain events have occurred. \n",
    "\n",
    "------------------------\n",
    "* logging.info() (or logging.debug() for very detailed output for diagnostic purposes)\n",
    "  * Report events that occur during normal operation of a program (e.g. for status monitoring or fault investigation) \n",
    "  \n",
    "\n",
    "* warnings.warn() in library code if the issue is avoidable and the client application should be modified to eliminate the warning.logging.warning() if there is nothing the client application can do about the situation, but the event should still be noted.\n",
    "  * Issue a warning regarding a particular runtime event.\n",
    " \n",
    " \n",
    "* Raise an exception \n",
    "  * Report an error regarding a particular runtime event.\n",
    "  \n",
    "\n",
    "* logging.error(), logging.exception() or logging.critical() as appropriate for the specific error and application domain\n",
    "  * Report suppression of an error without raising an exception (e.g. error handler in a long-running server process).\n",
    " \n",
    " \n",
    " ------------------------------------------------------\n",
    " \n",
    "* **Production environments**: When your application is running in a production environment, logging is the standard way to capture and store important information, errors, and warnings. It allows you to collect and analyze logs for monitoring, debugging, and auditing purposes. On the other hand, print statements are typically used for debugging during development and may clutter the output or impact performance in production.\n",
    "\n",
    "* **Severity levels and filtering**: Logging frameworks provide various log levels (such as DEBUG, INFO, WARNING, ERROR, and CRITICAL) to differentiate the severity of log messages. This allows you to control the verbosity of the output and filter logs based on their importance. You can configure your logging system to only display critical errors or specific types of messages, making it easier to focus on relevant information. With print statements, it's harder to achieve such flexibility and control.\n",
    "\n",
    "* **Structured and formatted output**: Logging frameworks offer features to structure and format log messages consistently. You can include timestamps, log levels, source information, and contextual data in your log entries. This standardized format makes it easier to read and analyze logs, especially when dealing with large volumes of data. Print statements lack these features and can result in unstructured and unorganized output.\n",
    "\n",
    "* **Log aggregation and centralized logging**: In complex systems with multiple components, it's common to aggregate logs from different sources into a centralized logging system. This allows for centralized storage, search, and analysis of logs. Logging frameworks provide integrations with such systems (e.g., ELK stack, Splunk, etc.) to forward logs efficiently. On the other hand, print statements would require custom implementation to achieve similar functionality.\n",
    "\n",
    "* **Runtime configuration**: Logging frameworks allow runtime configuration, allowing you to change log levels, destinations, or formatting without modifying the code. This flexibility is useful when debugging an issue or adjusting the log verbosity in different environments. Print statements require code modifications for such changes.\n",
    "\n",
    "* **Error handling and exceptions**: When an exception occurs, logging frameworks provide mechanisms to capture and log the exception details automatically. You can include stack traces, error messages, and relevant context information in the log entries, which can be crucial for troubleshooting and debugging. Print statements alone are not designed to handle exceptions in a structured and consistent manner.\n",
    "\n"
   ]
  },
  {
   "cell_type": "markdown",
   "id": "e5e59832-d9d9-4e12-bf3e-fa025edc5f3a",
   "metadata": {},
   "source": [
    "Q10:Write a Python program that logs a message to a file named \"app.log\" with the following requirements:\n",
    "\n",
    "● The log message should be \"Hello, World!\"\n",
    "\n",
    "● The log level should be set to \"INFO.\"\n",
    "\n",
    "● The log file should append new log entries without overwriting previous ones."
   ]
  },
  {
   "cell_type": "code",
   "execution_count": 4,
   "id": "a383c896-aed5-4721-bbe1-4476ae62059b",
   "metadata": {},
   "outputs": [],
   "source": [
    "#Ans:\n",
    "import logging\n",
    "\n",
    "# Configure logging\n",
    "logging.basicConfig(filename='app.log', level=logging.INFO)\n",
    "\n",
    "# Log the message\n",
    "logging.info('Hello, World!')\n"
   ]
  },
  {
   "cell_type": "markdown",
   "id": "d1204047-a9dd-41ba-8b3d-7df821391b18",
   "metadata": {},
   "source": [
    "Q11:Create a Python program that logs an error message to the console and a file named\n",
    "\"errors.log\" if an exception occurs during the program's execution. The error\n",
    "message should include the exception type and a timestamp"
   ]
  },
  {
   "cell_type": "code",
   "execution_count": 2,
   "id": "5cffcd6d-639a-4e08-8b92-154ceb821899",
   "metadata": {},
   "outputs": [
    {
     "name": "stdin",
     "output_type": "stream",
     "text": [
      "Enter a number 6\n"
     ]
    },
    {
     "name": "stderr",
     "output_type": "stream",
     "text": [
      "2023-07-14 07:43:42,677: ERROR - ZeroDivisionError: division by zero\n"
     ]
    },
    {
     "name": "stdout",
     "output_type": "stream",
     "text": [
      "ZeroDivisionError: division by zero\n"
     ]
    }
   ],
   "source": [
    "import logging \n",
    "import datetime \n",
    "\n",
    "logging.basicConfig(level= logging.ERROR , format = \"%(asctime)s: %(levelname)s - %(message)s\")\n",
    "\n",
    "file_handler = logging.FileHandler('errors.log')\n",
    "file_handler.setLevel(logging.ERROR)\n",
    "\n",
    "formatter = logging.Formatter(\"%(asctime)s: %(levelname)s - %(message)s\")\n",
    "file_handler.setFormatter(formatter)\n",
    "\n",
    "logger = logging.getLogger('')\n",
    "logger.addHandler(file_handler)\n",
    "\n",
    "try:\n",
    "    x = int(input('Enter a number'))\n",
    "    x/0\n",
    "except Exception as e:\n",
    "    error_message = f\"{type(e).__name__}: {str(e)}\"\n",
    "    logging.error(error_message)\n",
    "    print(error_message)"
   ]
  }
 ],
 "metadata": {
  "kernelspec": {
   "display_name": "Python 3 (ipykernel)",
   "language": "python",
   "name": "python3"
  },
  "language_info": {
   "codemirror_mode": {
    "name": "ipython",
    "version": 3
   },
   "file_extension": ".py",
   "mimetype": "text/x-python",
   "name": "python",
   "nbconvert_exporter": "python",
   "pygments_lexer": "ipython3",
   "version": "3.10.6"
  }
 },
 "nbformat": 4,
 "nbformat_minor": 5
}
