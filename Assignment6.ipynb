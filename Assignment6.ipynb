{
 "cells": [
  {
   "cell_type": "markdown",
   "id": "4a1bff1e-03b1-479b-8996-5a993cc9a3ab",
   "metadata": {},
   "source": [
    "20 May\n",
    "\n",
    "Python Basic - 1"
   ]
  },
  {
   "cell_type": "markdown",
   "id": "dff2b3c4-3b6d-4d37-85f7-6baba1390360",
   "metadata": {},
   "source": [
    "Q1:What are keywords in python? Using the keyword library, print all the python keywords"
   ]
  },
  {
   "cell_type": "markdown",
   "id": "64bd5e20-d6c1-4d7c-9220-95ffb1a4e3fb",
   "metadata": {},
   "source": [
    "Ans:\n",
    "    \n",
    "Keywords in Python are reserved words that can’t be used as ordinary identifiers. They are used to define the syntax and structure of the Python language.\n",
    "\n",
    "\n",
    "import keyword\n",
    "\n",
    "Print(keyword.kwlist)\n",
    "\n",
    " \n",
    "['False', 'None', 'True', 'and', 'as', 'assert', 'async', 'await', 'break', 'class', 'continue', 'def', 'del', 'elif', '     else', 'except', 'finally', 'for', 'from', 'global', 'if', 'import', 'in', 'is', 'lambda', 'nonlocal', 'not', 'or', 'pass', 'raise', 'return', 'try', 'while', 'with', 'yield']\n",
    "\n",
    "As of Python 3.9, there are 35 keywords.\n"
   ]
  },
  {
   "cell_type": "code",
   "execution_count": 5,
   "id": "77a1b4bf-acba-4081-8087-a84d1ed4f958",
   "metadata": {},
   "outputs": [
    {
     "name": "stdout",
     "output_type": "stream",
     "text": [
      "['False', 'None', 'True', 'and', 'as', 'assert', 'async', 'await', 'break', 'class', 'continue', 'def', 'del', 'elif', 'else', 'except', 'finally', 'for', 'from', 'global', 'if', 'import', 'in', 'is', 'lambda', 'nonlocal', 'not', 'or', 'pass', 'raise', 'return', 'try', 'while', 'with', 'yield']\n"
     ]
    }
   ],
   "source": [
    "import keyword\n",
    "print(keyword.kwlist)"
   ]
  },
  {
   "cell_type": "markdown",
   "id": "5f84d554-35d0-4c6a-b08d-a0797c0861d7",
   "metadata": {},
   "source": [
    "Q2:. What are the rules to create variables in python?"
   ]
  },
  {
   "cell_type": "markdown",
   "id": "d596f18d-6c26-4f87-82d3-6f053afebb54",
   "metadata": {},
   "source": [
    "Ans:\n",
    "\n",
    "Rules to create variables;  \n",
    "\n",
    "i.\tA variable name should start with either an alphabet or an underscore. Not with digits,it can be used in between.\n",
    "\n",
    "ii.\tSince it is case-sensitive, name, Name, and NAME are all different variables.\n",
    "\n",
    "iii.\tNo need to declare the type of the variables.\n",
    "\n",
    "iv.\tCan change the type of data assigned to a variable at any time. \n",
    "\n"
   ]
  },
  {
   "cell_type": "markdown",
   "id": "b83e8cab-4413-4ec0-a6b9-bc2f426a30b7",
   "metadata": {},
   "source": [
    "Q3:What are the standards and conventions followed for the nomenclature of variables in\n",
    "python to improve code readability and maintainability?\n"
   ]
  },
  {
   "cell_type": "markdown",
   "id": "b5d7f371-030e-4440-a851-290d2ebbc8cb",
   "metadata": {},
   "source": [
    "Ans:\n",
    "    \n",
    "A variable is a named location used to store data in memory.\n",
    "\n",
    "Variables are declared by writing the variable name and assigning it a value using the equals sign(=).\n",
    "\n",
    "i.\tA variable name should start with either an alphabet or an underscore. Not with digits,it can be used it between.\n",
    "\n",
    "ii.\tSince it is case-sensitive, name, Name, and NAME are all different variables.\n",
    "\n",
    "iii.\tNo need to declare the type of the variables.\n",
    "\n",
    "iv.\tCan change the type of data assigned to a variable at any time.\n"
   ]
  },
  {
   "cell_type": "markdown",
   "id": "39beba2c-5492-4510-94ef-00cab6fb20e8",
   "metadata": {},
   "source": [
    "Q4:What will happen if a keyword is used as a variable name?"
   ]
  },
  {
   "cell_type": "markdown",
   "id": "f65b16e5-aa31-4e3d-9c4c-26b2348283ca",
   "metadata": {},
   "source": [
    "Ans:\n",
    "    \n",
    "A keyword cannot be used as a variable name. And if used so  Python will show some syntax error since they are used to define the syntax and structure of Python. And it has specific meaning and usage. Instead of the keyword class, we could use the variable Class.    "
   ]
  },
  {
   "cell_type": "markdown",
   "id": "6c9b5df4-28af-4930-9ece-c25238622432",
   "metadata": {},
   "source": [
    "Q5:  For what purpose def keyword is used?\n"
   ]
  },
  {
   "cell_type": "code",
   "execution_count": 9,
   "id": "01f9f91a-af7c-452b-8a44-0741eca34a6a",
   "metadata": {},
   "outputs": [
    {
     "name": "stdout",
     "output_type": "stream",
     "text": [
      "def is keyword\n"
     ]
    }
   ],
   "source": [
    "#def keyword is used to define a function.\n",
    "#For eg: \n",
    "def MyFirstFunction():  \n",
    "    print(\"def is keyword\")\n",
    "MyFirstFunction()             \n",
    "#Here the keyword def is used to define a function MyFirstFunction()\n",
    "\n"
   ]
  },
  {
   "cell_type": "markdown",
   "id": "748718fa-8c5e-4b47-bea2-7179dd118f2e",
   "metadata": {},
   "source": [
    "Q6:What is the operation of this special character ‘\\’?"
   ]
  },
  {
   "cell_type": "markdown",
   "id": "3f771e4a-671a-4a71-9b58-561a3be8ff6e",
   "metadata": {},
   "source": [
    "Ans:\n",
    "    \n",
    "The special character '\\' is known as the backslash or escape character in many programming languages, including Python. It is used to indicate the start of an escape sequence or to escape special characters.\n",
    "\n",
    "\n",
    "Escape sequences: The backslash is used to create special characters or escape sequences within strings. For example:\n",
    "\n",
    "\n",
    "'\\n' represents a newline character.\n",
    "\n",
    "'\\t' represents a tab character.\n",
    "\n",
    "'\\'' represents a single quote character.\n",
    "\n",
    "'\\\"' represents a double quote character.\n",
    "\n",
    "'\\\\' represents a backslash character.\n",
    "    "
   ]
  },
  {
   "cell_type": "markdown",
   "id": "466d8513-5195-4ecc-8c48-46aa85233bed",
   "metadata": {},
   "source": [
    "Q7: Give an example of the following conditions:\n",
    "\n",
    "(i) Homogeneous list\n",
    "\n",
    "(ii) Heterogeneous set\n",
    "\n",
    "(iii) Homogeneous tuple"
   ]
  },
  {
   "cell_type": "markdown",
   "id": "c9bd74fa-b32f-438b-afac-45495dfb730e",
   "metadata": {},
   "source": [
    "(i) Homogenous list: they are list containing values of the same data types."
   ]
  },
  {
   "cell_type": "code",
   "execution_count": 12,
   "id": "5d88d13e-3ea3-4494-804f-569cfb813ac1",
   "metadata": {},
   "outputs": [],
   "source": [
    "#Eg:\n",
    "Marks=[45,46,40,36,50]\n",
    "Subjects=['Python', 'SQL' 'JAVA']\n"
   ]
  },
  {
   "cell_type": "markdown",
   "id": "0682fc15-e90c-4d6e-bee7-5a88a2f27a0a",
   "metadata": {},
   "source": [
    "(ii) Heterogenous set: they are sets containing values of different data types"
   ]
  },
  {
   "cell_type": "code",
   "execution_count": null,
   "id": "b6471449-e61c-4f8a-b30e-7b30c2c3213e",
   "metadata": {},
   "outputs": [],
   "source": [
    "#Eg:  \n",
    "integers= {1,2,' Three', 4.0 , 'Five'}"
   ]
  },
  {
   "cell_type": "markdown",
   "id": "eba6aad0-d659-4657-8052-e08110f193be",
   "metadata": {},
   "source": [
    "(iii) Homogenous tuple: they are tuple containing values of different data types."
   ]
  },
  {
   "cell_type": "code",
   "execution_count": 16,
   "id": "421c5e48-38c6-4532-9fd4-cf85526a3d78",
   "metadata": {},
   "outputs": [],
   "source": [
    "#Eg: \n",
    "Colours= ('Black', 'Red', 'Blue', 'Yellow')\n",
    "\n"
   ]
  },
  {
   "cell_type": "markdown",
   "id": "67f3a2ac-9a74-4951-9534-f8155829bb6b",
   "metadata": {},
   "source": [
    "Q8:Explain the mutable and immutable data types with proper explanation & examples"
   ]
  },
  {
   "cell_type": "markdown",
   "id": "74f4214b-f872-43e4-a4ce-16a4ecd7eb96",
   "metadata": {},
   "source": [
    "Ans:\n",
    "    \n",
    "Mutuable are the ones which can be modified after they are created. Whereas the immutable are the ones which cannot. \n",
    "\n",
    "\n",
    "\n",
    "List, Dictionaries,Sets are mutable.\n",
    "\n",
    "Eg: Marks=[45,46,40,36,50] and  integers= {1,2,' Three', 4.0 , 'Five'}  are mutable.\n",
    "\n",
    "Tuple is immutable.\n",
    "\n",
    "Eg: Colours= ('Black', 'Red', 'Blue', 'Yellow') is immutable.\n",
    "\n"
   ]
  },
  {
   "cell_type": "markdown",
   "id": "893fc775-a975-47b9-a52c-266d533bc032",
   "metadata": {},
   "source": [
    "Q9:Write a code to create the given structure using only for loop.\n",
    "\n",
    "  "
   ]
  },
  {
   "cell_type": "code",
   "execution_count": 2,
   "id": "fd04c374-00ba-4a31-bedf-bb7795b1ebc6",
   "metadata": {},
   "outputs": [
    {
     "name": "stdout",
     "output_type": "stream",
     "text": [
      "    *\n",
      "   ***\n",
      "  *****\n",
      " *******\n",
      "*********\n"
     ]
    }
   ],
   "source": [
    "#Ans:\n",
    "    \n",
    "row= 5\n",
    "for i in range(1, row+1):\n",
    "    for j in range(row-i):\n",
    "        print(' ', end='')\n",
    "    for k in range(2 * i - 1):\n",
    "          print('*', end='')\n",
    "    print()\n",
    "\n"
   ]
  },
  {
   "cell_type": "markdown",
   "id": "f4b02e0b-7a82-4d88-b18c-31d2ccf30c75",
   "metadata": {},
   "source": [
    "Q10: Write a code to create the given structure using while loop."
   ]
  },
  {
   "cell_type": "code",
   "execution_count": 1,
   "id": "0d964f39-a0ef-4c64-b6cb-f76d7936d6db",
   "metadata": {},
   "outputs": [
    {
     "name": "stdout",
     "output_type": "stream",
     "text": [
      "|||||||||\n",
      " |||||||\n",
      "  |||||\n",
      "   |||\n",
      "    |\n"
     ]
    }
   ],
   "source": [
    "n=5\n",
    "row=1\n",
    "spaces=0\n",
    "pattern= 2 * n - 1\n",
    "\n",
    "while row<=n:\n",
    "    count=1\n",
    "    while count<=spaces:\n",
    "        print(' ',end='')\n",
    "        count+=1\n",
    "    \n",
    "    count=1    \n",
    "    while  count<=pattern:\n",
    "        print('|',end='')\n",
    "        count+=1\n",
    "        \n",
    "    print()\n",
    "    row+=1\n",
    "    spaces+=1\n",
    "    pattern-=2\n"
   ]
  },
  {
   "cell_type": "code",
   "execution_count": null,
   "id": "cdb790cb-7220-40ec-9a54-8ec252ef6438",
   "metadata": {},
   "outputs": [],
   "source": []
  }
 ],
 "metadata": {
  "kernelspec": {
   "display_name": "Python 3 (ipykernel)",
   "language": "python",
   "name": "python3"
  },
  "language_info": {
   "codemirror_mode": {
    "name": "ipython",
    "version": 3
   },
   "file_extension": ".py",
   "mimetype": "text/x-python",
   "name": "python",
   "nbconvert_exporter": "python",
   "pygments_lexer": "ipython3",
   "version": "3.10.6"
  }
 },
 "nbformat": 4,
 "nbformat_minor": 5
}
