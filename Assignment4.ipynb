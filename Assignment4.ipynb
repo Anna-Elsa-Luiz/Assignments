{
 "cells": [
  {
   "cell_type": "markdown",
   "id": "080e35fb-a846-4885-9494-68e25276a81d",
   "metadata": {},
   "source": [
    "Assignment 4 "
   ]
  },
  {
   "cell_type": "markdown",
   "id": "3c01a403-2a95-40a6-b74c-f35b35416322",
   "metadata": {},
   "source": [
    "Q1: What exactly is []?"
   ]
  },
  {
   "cell_type": "markdown",
   "id": "3d6fe57c-c9da-4786-931d-ef2f05af8769",
   "metadata": {},
   "source": [
    "Ans:\n",
    "    \n",
    "It is an empty list, ie a list consisting of no elements. "
   ]
  },
  {
   "cell_type": "markdown",
   "id": "68495c40-e7df-42fc-bba3-601f3986443c",
   "metadata": {},
   "source": [
    "Q2: In a list of values stored in a variable called spam, how would you assign the value 'hello' as the third value? (Assume [2, 4, 6, 8, 10] are in spam.)"
   ]
  },
  {
   "cell_type": "code",
   "execution_count": 2,
   "id": "f8b7056c-5e7e-4c68-8f4f-f6d66e2e3de5",
   "metadata": {},
   "outputs": [
    {
     "name": "stdout",
     "output_type": "stream",
     "text": [
      "[2, 4, 'hello', 8, 10]\n"
     ]
    }
   ],
   "source": [
    "#ans:\n",
    "\n",
    "\n",
    "spam = [2, 4, 6, 8, 10]\n",
    "spam[2] = 'hello'\n",
    "print(spam)\n",
    "#----------------\n",
    "#Output -->  [2, 4, 'hello', 8 ,  10]\n"
   ]
  },
  {
   "cell_type": "markdown",
   "id": "7dfadf35-5ae6-4801-9d1a-cc0b194ce519",
   "metadata": {},
   "source": [
    "Let's pretend the spam includes the list ['a', 'b', 'c', 'd'] for the next three queries."
   ]
  },
  {
   "cell_type": "markdown",
   "id": "a9942ef9-e211-4787-97cd-ba95aceddc0e",
   "metadata": {},
   "source": [
    "Q3: What is the value of spam[int(int('3' * 2) / 11)]?"
   ]
  },
  {
   "cell_type": "code",
   "execution_count": 8,
   "id": "5c6cf643-4757-4ce8-8a8e-ff2185aafcf1",
   "metadata": {},
   "outputs": [
    {
     "data": {
      "text/plain": [
       "'d'"
      ]
     },
     "execution_count": 8,
     "metadata": {},
     "output_type": "execute_result"
    }
   ],
   "source": [
    "#ans:\n",
    "\n",
    "#if  \n",
    "spam = ['a', 'b', 'c', 'd'] \n",
    "spam[int(int('3' * 2) / 11)]  #will give the output  ‘d’. \n",
    "\n",
    "#  ‘3’ * 2 --> 33 ,  33/11--> 3  .so It will print the third element."
   ]
  },
  {
   "cell_type": "markdown",
   "id": "f809d905-ba9a-4a5a-949a-95a23fa37d7e",
   "metadata": {},
   "source": [
    "Q4: What is the value of spam[-1]?"
   ]
  },
  {
   "cell_type": "code",
   "execution_count": 10,
   "id": "5bbdd277-ea20-4297-8124-4375f6c6e004",
   "metadata": {},
   "outputs": [
    {
     "data": {
      "text/plain": [
       "'d'"
      ]
     },
     "execution_count": 10,
     "metadata": {},
     "output_type": "execute_result"
    }
   ],
   "source": [
    "#ans:\n",
    "\n",
    "#if              \n",
    "spam = ['a', 'b', 'c', 'd'] \n",
    "spam[-1]  #will give the output ‘d’\n"
   ]
  },
  {
   "cell_type": "markdown",
   "id": "bd355eb5-02de-4bf8-8194-b29f427542d9",
   "metadata": {},
   "source": [
    "Q5: What is the value of spam[:2]?"
   ]
  },
  {
   "cell_type": "code",
   "execution_count": 11,
   "id": "bbe272a7-805a-4450-b663-c8ec755196fc",
   "metadata": {},
   "outputs": [
    {
     "data": {
      "text/plain": [
       "['a', 'b']"
      ]
     },
     "execution_count": 11,
     "metadata": {},
     "output_type": "execute_result"
    }
   ],
   "source": [
    "#ans:\n",
    "\n",
    "#If              \n",
    "spam = ['a', 'b', 'c', 'd']\n",
    "spam[:2]  #will give the output   [‘a’ , ‘b’]\n"
   ]
  },
  {
   "cell_type": "markdown",
   "id": "d7d875c0-81d0-4fbf-bb59-9797274c7d19",
   "metadata": {},
   "source": [
    "Let's pretend bacon has the list [3.14, 'cat,' 11, 'cat,' True] for the next three questions."
   ]
  },
  {
   "cell_type": "markdown",
   "id": "087b0470-5d27-4cb7-8abc-454119ff96c3",
   "metadata": {},
   "source": [
    "Q6: What is the value of bacon.index('cat')?"
   ]
  },
  {
   "cell_type": "code",
   "execution_count": 14,
   "id": "d9a10542-64a0-48cf-ad9f-ed16aea0bb70",
   "metadata": {},
   "outputs": [
    {
     "data": {
      "text/plain": [
       "1"
      ]
     },
     "execution_count": 14,
     "metadata": {},
     "output_type": "execute_result"
    }
   ],
   "source": [
    "#ans:\n",
    "\n",
    "#If         \n",
    "bacon= [3.14, 'cat',  11, 'cat', True] \n",
    "bacon. index('cat')  #will give the output 1 \n"
   ]
  },
  {
   "cell_type": "markdown",
   "id": "2a86d031-cd15-44f8-831a-8d0967163d4c",
   "metadata": {},
   "source": [
    "Q7: How does bacon.append(99) change the look of the list value in bacon?"
   ]
  },
  {
   "cell_type": "code",
   "execution_count": 20,
   "id": "a4d0054b-e6db-4331-80e9-2e646c8b620b",
   "metadata": {},
   "outputs": [
    {
     "data": {
      "text/plain": [
       "[3.14, 'cat', 11, 'cat', True, 99]"
      ]
     },
     "execution_count": 20,
     "metadata": {},
     "output_type": "execute_result"
    }
   ],
   "source": [
    "#ans:\n",
    "\n",
    "#If         \n",
    "bacon= [3.14, 'cat', 11, 'cat', True]\n",
    "bacon. append(99)    #will give the output of  [3.14, 'cat', 11, 'cat', True, 99]\n",
    "                     #ie,  it get appended to the existing list.\n",
    "bacon    "
   ]
  },
  {
   "cell_type": "markdown",
   "id": "a4fc772c-6e26-46bb-b7dd-c96df289b8ff",
   "metadata": {},
   "source": [
    "Q8: How does bacon.remove('cat') change the look of the list in bacon?"
   ]
  },
  {
   "cell_type": "code",
   "execution_count": 24,
   "id": "c8dc3518-bfa3-40a4-9d9d-95ab4ebd5d9d",
   "metadata": {},
   "outputs": [
    {
     "data": {
      "text/plain": [
       "[3.14, 11, 'cat', True]"
      ]
     },
     "execution_count": 24,
     "metadata": {},
     "output_type": "execute_result"
    }
   ],
   "source": [
    "#ans:\n",
    "\n",
    "#If         \n",
    "bacon= [3.14, 'cat', 11, 'cat', True]\n",
    "bacon.remove('cat')  #will give the output of    [3.14, 11, 'cat', True]  \n",
    "\n",
    "bacon"
   ]
  },
  {
   "cell_type": "markdown",
   "id": "235dbadd-8e3f-4cd2-b8b0-fdf5d5472bc0",
   "metadata": {},
   "source": [
    "Q9: What are the list concatenation and list replication operators?"
   ]
  },
  {
   "cell_type": "markdown",
   "id": "9de4301f-56ac-441c-b15a-fa91fe258be7",
   "metadata": {},
   "source": [
    "Ans:\n",
    "    \n",
    "List concatenation operator--> ‘ + ‘  ie, it adds the values of same data type.\n",
    "\n",
    "List replication operator     ---> ‘ * ‘ , it replicates the same value for a specified number of times.\n"
   ]
  },
  {
   "cell_type": "markdown",
   "id": "23460593-42c8-474a-af61-7b3270887060",
   "metadata": {},
   "source": [
    "Q10: What is difference between the list methods append() and insert()?"
   ]
  },
  {
   "cell_type": "markdown",
   "id": "8c98d451-3c2b-4f93-8ef6-580f69f7bde9",
   "metadata": {},
   "source": [
    "Ans:\n",
    "    \n",
    "append() is used to  add items by adding them as the last element .\n",
    "\n",
    "insert() is used to add items anywhere in the list.\n"
   ]
  },
  {
   "cell_type": "markdown",
   "id": "f90fb6b6-04ea-454e-9817-2659a57768c3",
   "metadata": {},
   "source": [
    "Q11:What are the two methods for removing items from a list?"
   ]
  },
  {
   "cell_type": "markdown",
   "id": "b8f3ad2f-a2a3-4ee6-ab50-6ddc32fa525e",
   "metadata": {},
   "source": [
    "Ans:\n",
    "    \n",
    "pop() and remove() can be used to remove items from the list. del() can be used to delete specified objects as well as a range of objects using index. "
   ]
  },
  {
   "cell_type": "markdown",
   "id": "4f874f07-c744-407d-b040-c57b6e5cbb71",
   "metadata": {},
   "source": [
    "Q12: Describe how list values and string values are identical."
   ]
  },
  {
   "cell_type": "markdown",
   "id": "ef610ebc-4819-4b19-82a8-c6730675cb53",
   "metadata": {},
   "source": [
    "Ans:\n",
    "    \n",
    "Similarities  between List and String\n",
    "\n",
    "•\tSupports indexing and slicing to access.\n",
    "\n",
    "•\tBoth can be used along with the conditional statements.\n",
    "\n",
    "•             Can be concatenated and replicated\n"
   ]
  },
  {
   "cell_type": "markdown",
   "id": "2fea1b23-d16b-4307-848d-d6452f04894a",
   "metadata": {},
   "source": [
    "Q13: What's the difference between tuples and lists?"
   ]
  },
  {
   "cell_type": "markdown",
   "id": "69390567-1825-4174-b108-4ecaa8a111d4",
   "metadata": {},
   "source": [
    "Ans:\n",
    "    \n",
    "List are  \n",
    "•\tMutable\n",
    "\n",
    "•Created by placing items inside […] separated by commas.\n",
    "    \n",
    "Tuples are    \n",
    "\n",
    "•\tImmutable\n",
    "              \n",
    "•\tCreated by placing items inside parenthesis (…) separated by commas\n",
    " \n"
   ]
  },
  {
   "cell_type": "markdown",
   "id": "109d4374-2663-4ae6-b9e3-b474c63e2bce",
   "metadata": {},
   "source": [
    "Q14: How do you type a tuple value that only contains the integer 42?"
   ]
  },
  {
   "cell_type": "code",
   "execution_count": 26,
   "id": "bcf51c07-5b85-4e2d-a3b3-89f6615758c1",
   "metadata": {},
   "outputs": [],
   "source": [
    "Tuple = ( 42 )"
   ]
  },
  {
   "cell_type": "markdown",
   "id": "76003bf2-24b3-4988-b139-e7045c271a13",
   "metadata": {},
   "source": [
    "Q15: . How do you get a list value's tuple form? How do you get a tuple value's list form?"
   ]
  },
  {
   "cell_type": "markdown",
   "id": "a7ad9724-b1f9-441a-a7ba-f60190bfe88d",
   "metadata": {},
   "source": [
    "Ans:\n",
    "    \n",
    "By using the tuple() and list() functions"
   ]
  },
  {
   "cell_type": "markdown",
   "id": "403c46de-b490-444d-a991-697df68c0dce",
   "metadata": {},
   "source": [
    "Q16: Variables that \"contain\" list values are not necessarily lists themselves. Instead, what do they contain?"
   ]
  },
  {
   "cell_type": "markdown",
   "id": "bd6390f4-4d4d-4223-af44-bd72219cee05",
   "metadata": {},
   "source": [
    "Ans:\n",
    "    \n",
    "They contain the references to list values."
   ]
  },
  {
   "cell_type": "markdown",
   "id": "46f13265-42b7-4c3b-a452-dca6fa8fa637",
   "metadata": {},
   "source": [
    "Q17: How do you distinguish between copy.copy() and copy.deepcopy()?"
   ]
  },
  {
   "cell_type": "markdown",
   "id": "a30b8c1c-226a-46d1-8543-661934f2ad4d",
   "metadata": {},
   "source": [
    "Ans:\n",
    "    \n",
    "Copy.copy()   returns a shallow copy of x . ie, when you change the copied object you change the original object.\n",
    "\n",
    "Copy.deepcopy() returns a deep copy of x .ie, changing the copied object does not effect the original object\n"
   ]
  },
  {
   "cell_type": "code",
   "execution_count": null,
   "id": "81800cbd-cd56-45a7-9ce1-129937488791",
   "metadata": {},
   "outputs": [],
   "source": []
  }
 ],
 "metadata": {
  "kernelspec": {
   "display_name": "Python 3 (ipykernel)",
   "language": "python",
   "name": "python3"
  },
  "language_info": {
   "codemirror_mode": {
    "name": "ipython",
    "version": 3
   },
   "file_extension": ".py",
   "mimetype": "text/x-python",
   "name": "python",
   "nbconvert_exporter": "python",
   "pygments_lexer": "ipython3",
   "version": "3.10.6"
  }
 },
 "nbformat": 4,
 "nbformat_minor": 5
}
