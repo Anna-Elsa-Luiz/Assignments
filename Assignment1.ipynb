{
 "cells": [
  {
   "cell_type": "markdown",
   "id": "ac374fa0-12c8-4f76-bcd4-1788b7d0e91b",
   "metadata": {},
   "source": [
    "Assignemt-1"
   ]
  },
  {
   "cell_type": "markdown",
   "id": "7b7a0432-e5f1-4342-bb7c-32ad2186fab8",
   "metadata": {},
   "source": [
    "Q:1\n",
    "In the below elements which of them are values or an expression? eg:- values can be integer or string and expressions will be mathematical operators.\n",
    "*\n",
    "\n",
    "'hello'\n",
    "\n",
    "-87.8\n",
    "\n",
    "- \n",
    "\n",
    "/ \n",
    "\n",
    "+\n",
    "\n",
    "6 \n"
   ]
  },
  {
   "cell_type": "markdown",
   "id": "18654068-b182-428b-9678-6ecd52e50ad1",
   "metadata": {},
   "source": [
    "Ans  :\n",
    "\n",
    "Values: ‘hello’, -87.8, 6  ,   Expression: * ,  - ,  / ,  +"
   ]
  },
  {
   "cell_type": "markdown",
   "id": "d5a5c524-b84d-42ac-bb8f-d6ccf6ef37d9",
   "metadata": {},
   "source": [
    "Q:2 What is the difference between string and variable?"
   ]
  },
  {
   "cell_type": "markdown",
   "id": "308c27bc-3eb4-4135-9fcc-f8a9e3dfc522",
   "metadata": {},
   "source": [
    "Ans:\n",
    "\n",
    "A string is a character that will be created using single or double inverted commas (‘ ,”). And it is a data type used in Python. They are sequences of character data.\n",
    "\n",
    "A variable is a named location used to store data in memory. It is declared by writing the variable name and assigning it a value using the equal sign.\n",
    "\n",
    "For eg: n=10\n"
   ]
  },
  {
   "cell_type": "markdown",
   "id": "35159e90-1bab-40ed-b1da-9b401eab86eb",
   "metadata": {},
   "source": [
    "Q:3  Describe three different data types."
   ]
  },
  {
   "cell_type": "markdown",
   "id": "1b73d3c5-5163-4821-9f8a-842be84864f4",
   "metadata": {},
   "source": [
    "Ans:\n",
    "\n",
    "Integers: Whole numbers without fraction components. They can be positive negative, or zero.\n",
    "\n",
    "eg: 1 , -6, 10000\n",
    "\n",
    "Float:  It represents the real numbers and are written with a decimal point.\n",
    "\n",
    "Eg: 1.2, -0.8, 10.00\n",
    "\n",
    "String: They are sequences of character data. And are created by enclosing characters in quotes.\n",
    "\n",
    "Eg: ‘A ‘ , “Mathematics” , “SM21A001”\n"
   ]
  },
  {
   "cell_type": "markdown",
   "id": "e50fd829-977d-452d-bc55-a51364d2708d",
   "metadata": {},
   "source": [
    "Q:4  What is an expression made up of? What do all expressions do?"
   ]
  },
  {
   "cell_type": "markdown",
   "id": "935cd8e5-2b7e-4d27-99b2-ad352edc216d",
   "metadata": {},
   "source": [
    "Ans:\n",
    "\n",
    "An expression is a combination of values and operators ( +, -, *, /, &, >, etc. ). It evaluates to a single assigned value.\n"
   ]
  },
  {
   "cell_type": "markdown",
   "id": "986714f4-1db5-4b3e-866b-4592265acc92",
   "metadata": {},
   "source": [
    "Q:5  This assignment statements, like spam = 10. What is the difference between an expression and a statement?"
   ]
  },
  {
   "cell_type": "markdown",
   "id": "4d61f67c-d3f2-48ac-b8cc-f6420e7159bc",
   "metadata": {},
   "source": [
    "Ans:\n",
    "\n",
    "A statement is a logical instruction that the Python interpreter can read and execute. It performs some action. Statements are of different types; assignment statements, conditional statements, looping statements, multiline statements, etc."
   ]
  },
  {
   "cell_type": "markdown",
   "id": "6307028b-98a3-484f-bf5f-7f0cd8110692",
   "metadata": {},
   "source": [
    "Q:6  After running the following code, what does the variable bacon contain?\n",
    "\n",
    "bacon = 22\n",
    "\n",
    "bacon + 1\n"
   ]
  },
  {
   "cell_type": "code",
   "execution_count": 11,
   "id": "3f6106c4-6c75-4aff-9a02-cd6ede5d3a74",
   "metadata": {},
   "outputs": [
    {
     "data": {
      "text/plain": [
       "23"
      ]
     },
     "execution_count": 11,
     "metadata": {},
     "output_type": "execute_result"
    }
   ],
   "source": [
    "#ans\n",
    "bacon=22\n",
    "bacon + 1 \n",
    " #bacon value will be 23 "
   ]
  },
  {
   "cell_type": "markdown",
   "id": "c04a41ef-5dab-4c9a-99c7-af445fe3a490",
   "metadata": {},
   "source": [
    "Q:7. What should the values of the following two terms be?\n",
    "\n",
    "'spam' + 'spamspam'\n",
    "\n",
    "'spam' * 3\n"
   ]
  },
  {
   "cell_type": "code",
   "execution_count": 12,
   "id": "9b2c5fd1-73b5-4f5c-96df-d4f03e965cf2",
   "metadata": {},
   "outputs": [
    {
     "data": {
      "text/plain": [
       "'spamspamspam'"
      ]
     },
     "execution_count": 12,
     "metadata": {},
     "output_type": "execute_result"
    }
   ],
   "source": [
    "#ans\n",
    "'spam' + 'spamspam'\n",
    "#'spamspamspam'"
   ]
  },
  {
   "cell_type": "code",
   "execution_count": 6,
   "id": "00989bd2-10f0-4349-bc21-38fbed267b38",
   "metadata": {},
   "outputs": [
    {
     "data": {
      "text/plain": [
       "'spamspamspam'"
      ]
     },
     "execution_count": 6,
     "metadata": {},
     "output_type": "execute_result"
    }
   ],
   "source": [
    "'spam' * 3\n",
    "#'spamspamspam'"
   ]
  },
  {
   "cell_type": "markdown",
   "id": "649e3c15-d69b-4c66-83d7-f1856d5fee11",
   "metadata": {},
   "source": [
    "Q:8 Why is eggs a valid variable name while 100 is invalid?"
   ]
  },
  {
   "cell_type": "markdown",
   "id": "f92e4162-b05f-4b79-914c-a6aa08080a9d",
   "metadata": {},
   "source": [
    "Ans:\n",
    "\n",
    "Because a variable name can start with small letters/capital letters/underscores but not with digits."
   ]
  },
  {
   "cell_type": "markdown",
   "id": "fc59dea6-4ea4-45b7-b763-1bb262ec07b7",
   "metadata": {},
   "source": [
    "Q;9 What three functions can be used to get the integer, floating-point number, or string version of a value?"
   ]
  },
  {
   "cell_type": "markdown",
   "id": "2982ba21-516a-49df-8790-4fed479cbf27",
   "metadata": {},
   "source": [
    "Ans:\n",
    "\n",
    "int(), float(), str()"
   ]
  },
  {
   "cell_type": "markdown",
   "id": "20c3aa7c-6f2f-431d-9a14-d6b71572d05e",
   "metadata": {},
   "source": [
    "Q:10 Why does this expression cause an error? How can you fix it?\n",
    "\n",
    "'I have eaten ' + 99 + ' burritos.'\n"
   ]
  },
  {
   "cell_type": "markdown",
   "id": "78fb91c9-5c06-4d64-a043-28f22814a6fb",
   "metadata": {},
   "source": [
    "Ans:\n",
    "\n",
    "Only the same data types can be added or concatenated.\n",
    "\n"
   ]
  },
  {
   "cell_type": "code",
   "execution_count": 8,
   "id": "4b925345-e5a3-4fa6-9af3-c3b0afcefd2f",
   "metadata": {},
   "outputs": [
    {
     "data": {
      "text/plain": [
       "'I have eaten ninety-nine burritos.'"
      ]
     },
     "execution_count": 8,
     "metadata": {},
     "output_type": "execute_result"
    }
   ],
   "source": [
    "#Eg_1:\n",
    "'I have eaten '  + 'ninety-nine' + ' burritos.'   \n",
    "#'I have eaten ninety-nine burritos.'\n",
    "                 \n"
   ]
  },
  {
   "cell_type": "code",
   "execution_count": 9,
   "id": "33337a7e-4f05-4288-9b22-2a52ea22e743",
   "metadata": {},
   "outputs": [
    {
     "data": {
      "text/plain": [
       "'998800'"
      ]
     },
     "execution_count": 9,
     "metadata": {},
     "output_type": "execute_result"
    }
   ],
   "source": [
    "#Eg_2:\n",
    "'99'  + '88' + '00' \n",
    "#'998800'"
   ]
  }
 ],
 "metadata": {
  "kernelspec": {
   "display_name": "Python 3 (ipykernel)",
   "language": "python",
   "name": "python3"
  },
  "language_info": {
   "codemirror_mode": {
    "name": "ipython",
    "version": 3
   },
   "file_extension": ".py",
   "mimetype": "text/x-python",
   "name": "python",
   "nbconvert_exporter": "python",
   "pygments_lexer": "ipython3",
   "version": "3.10.6"
  }
 },
 "nbformat": 4,
 "nbformat_minor": 5
}
