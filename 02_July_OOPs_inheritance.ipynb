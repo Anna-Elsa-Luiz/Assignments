{
 "cells": [
  {
   "cell_type": "markdown",
   "id": "c11c8797-701b-4c27-9a76-e0df7f7e77bf",
   "metadata": {},
   "source": [
    "Q1:Explain what inheritance is in object-oriented programming and why it is used."
   ]
  },
  {
   "cell_type": "markdown",
   "id": "d4488c81-d44c-48e8-b3f3-163a2bb57690",
   "metadata": {},
   "source": [
    "Ans:\n",
    "\n",
    "* Inheritance in python programming is the concept of deriving a new class from an existing class.\n",
    "* Using the concept of inheritance we can inherit the properties of the existing class to our new class. \n",
    "* The new derived class is called the child class and the existing class is called the parent class.\n",
    "* Inhertance is the process by which objects of one class acquire the properties of objects of another class.\n",
    "* It supports the concept of hierarchical classification.\n",
    "    * For Eg: Person class has 2 derived class, student class and staff class . attribute 'name' is applicable for all of the classes.In such case we               define the name in the base class and inherit it.  \n",
    "* Each derived class shares common characteristics with the class from which it is derived.    \n",
    "* 𝐈𝐧𝐡𝐞𝐫𝐢𝐭𝐚𝐧𝐜𝐞 allows classes to inherit properties and methods from other classes, making code reusable and organized.\n",
    "* Reduces the Programmers Efforts\n",
    "* Readability"
   ]
  },
  {
   "cell_type": "code",
   "execution_count": 106,
   "id": "4a12beb7-0567-4686-87e4-2f450978ac6b",
   "metadata": {},
   "outputs": [],
   "source": [
    "#eg:\n",
    "\n",
    "class parent_class:\n",
    "    #parent_class members\n",
    "    pass\n",
    "    \n",
    "class child_class(parent_class):\n",
    "    #child_class members\n",
    "    pass\n",
    "\n",
    "obj = child_class()"
   ]
  },
  {
   "cell_type": "markdown",
   "id": "0d93dc7a-bf8e-40f1-8a94-472290fbb8db",
   "metadata": {},
   "source": [
    "Q2:Discuss the concept of single inheritance and multiple inheritance, highlighting their\n",
    "differences and advantages."
   ]
  },
  {
   "cell_type": "markdown",
   "id": "2ae8c355-b00a-4190-bc70-5743a11225e3",
   "metadata": {},
   "source": [
    "Ans:\n",
    "    \n",
    "**Single inheritance** \n",
    "----------------------\n",
    "* When child class is derived from only one parent class.\n",
    "* Advantages of Single Inheritance:\n",
    "    * Single inheritance is safer than multiple inheritance if it is approached in the right way. \n",
    "    * It also enables a derived class to call the parent class implementation for a specific method if this method is overridden in the derived class       or the parent class constructor.\n",
    "\n",
    "\n",
    "\n",
    "----------------------------------------------------------------------------------------------\n",
    " **Multiple Inheritance** \n",
    " ------------------------ \n",
    "* When child class is derived or inherited from more than one parent class.\n",
    "* In multiple inheritance, we have more than one parent classes/base classes and one child class that inherits all the  parent classes properties.\n",
    "* Advantages of Multiple Inheritance:\n",
    "\n",
    "    * Code Re usability: One of the most significant advantages of multiple inheritance is code re usability. By inheriting properties and methods          from multiple parent classes, a child class can reuse the code from those classes, rather than having to write the same code multiple times.           This can save time and effort and can help to make code more efficient.\n",
    "\n",
    "    * Flexibility: Multiple inheritance can make it easier to create complex class hierarchies that are flexible and adaptable. By allowing a class         to inherit from multiple parent classes, developers can create classes that can perform multiple functions and can be used in a variety of             different situations.\n",
    "\n",
    "    * Better Organization: Multiple inheritance can help to better organize code. By grouping related properties and methods into separate parent           classes, developers can create a more organized and modular code structure that is easier to manage and maintain.\n",
    "\n",
    "* Disadvantages of Multiple Inheritance:\n",
    "\n",
    "    * Complexity: Multiple inheritance can make code more complex and difficult to understand. With multiple parent classes, it can be challenging           to keep track of all the properties and methods that a child class has inherited, and this can lead to errors and bugs.\n",
    "\n",
    "    * Naming Conflicts: Multiple inheritance can create naming conflicts, where properties or methods in one parent class have the same name as             properties or methods in another parent class. This can make it difficult to determine which property or method is being referred to, and can         lead to errors.\n",
    "\n",
    "    * Diamond Problem: The diamond problem is a well-known issue with multiple inheritance. This problem occurs when a child class inherits from two         parent classes that both inherit from the same base class. This can create ambiguity in the code, and it can be difficult to determine which           inherited method or property should be used.\n",
    "\n",
    "    * Maintenance: Multiple inheritance can make code harder to maintain. With multiple parent classes, changes to one parent class can have                 unintended consequences on the child class or other parent classes. This can make it challenging to make changes to the code without                   introducing new bugs or errors.\n",
    "    \n",
    "------------------------------------------------------------------------------------------------\n",
    "\n",
    " **Difference between Single and Multiple Inheritance**\n",
    " ------------------------------------------------------\n",
    "* Single inheritance is a type of inheritance that enables a derived class to inherit attributes and methods from a single parent class while multiple inheritance is a type of inheritance that enables a derived class to inherit attributes and methods from more than one parent class.\n",
    "* In single inheritance, a subclass inherits from a single superclass whereas, in multiple inheritance, a subclass inherits from multiple superclasses. Hence, this is another difference between single and multiple inheritance.\n",
    "* Complexity is also a difference between single and multiple inheritance. Multiple inheritance is more complex than single multiple inheritance."
   ]
  },
  {
   "cell_type": "code",
   "execution_count": 2,
   "id": "0ad448c0-9439-4c84-bb02-a2cbe3439f77",
   "metadata": {},
   "outputs": [],
   "source": [
    "#Eg:\n",
    "#syntax_of_single_inheritance\n",
    "\n",
    "class parent:                           #parent_class\n",
    "    pass\n",
    "\n",
    "class child(parent):                   #child_class\n",
    "    pass\n",
    "\n",
    "obj_name = child()\n",
    "    \n",
    "    \n",
    "#syntax_of_multiple_inheritance\n",
    "\n",
    "class parent_1:                          #parent_class1\n",
    "    pass\n",
    "\n",
    "class parent_2:                          #parent_class2\n",
    "    pass \n",
    "\n",
    "class child(parent_1,parent_2):          #child_class\n",
    "    pass\n",
    "\n",
    "obj = child()    "
   ]
  },
  {
   "cell_type": "markdown",
   "id": "49faeae7-9573-4136-99f8-ad744d5f35c6",
   "metadata": {},
   "source": [
    "Q3:Explain the terms \"base class\" and \"derived class\" in the context of inheritance."
   ]
  },
  {
   "cell_type": "markdown",
   "id": "e34e14d0-3158-4ac8-8bb9-a7d9750ae424",
   "metadata": {},
   "source": [
    "Ans:\n",
    "    \n",
    "* Inheritance allows us to create a new class from an existing class.\n",
    "\n",
    "* The new class that is created is known as subclass (child or derived class) and the existing class from which the child class is derived is known as superclass (parent or base class).    "
   ]
  },
  {
   "cell_type": "code",
   "execution_count": 3,
   "id": "934189f8-3e28-4b0f-a55f-b7f8630ffb36",
   "metadata": {},
   "outputs": [],
   "source": [
    "#syntax\n",
    "class Praent_Class:  \n",
    "    pass\n",
    "\n",
    "class Child_class1:\n",
    "    pass\n",
    "\n",
    "class Child_class2:\n",
    "    pass\n",
    "\n",
    "\n",
    "\n",
    "#eg:\n",
    "class  Fruits:\n",
    "    pass \n",
    "\n",
    "class Mango:\n",
    "    pass\n",
    "\n",
    "class Orange:\n",
    "    pass "
   ]
  },
  {
   "cell_type": "markdown",
   "id": "b008dd2f-d243-4265-856b-e3166051e261",
   "metadata": {},
   "source": [
    "Q4:What is the significance of the \"protected\" access modifier in inheritance? How does\n",
    "it differ from \"private\" and \"public\" modifiers?"
   ]
  },
  {
   "cell_type": "markdown",
   "id": "ed604775-6b39-4ee8-b2f3-c99be3cc852e",
   "metadata": {},
   "source": [
    "Ans:\n",
    "\n",
    "Public Modifier\n",
    "---------------\n",
    "* The members of a class that are preceded with the public modifier are accessible by the classes present within the package or outside the package.\n",
    "* You can access a public class,data member or method within the class in which they are defined, from the classes defined in the same package or outside the package.\n",
    "\n",
    "Private Modifier\n",
    "----------------\n",
    "* The private modifier allows a class to hide its member variables and member methods from other classes.Therefore, the private members of a class are not visible outside a class.\n",
    "* They are visible only to the methods of the same class.Therefore, the data remains hidden and cannot be altered by any method other than the member methods of the class.\n",
    "* If a variable or methods is declared private, it can be accessed only within its enclosing class.\n",
    "\n",
    "Protected Modifier\n",
    "-----------------\n",
    "* The members of a class that are preceded with the protected modifier are accessible to all the classes within the package and by the subclasses outside the package.\n",
    "* This modifier can be applied to the data member, method, and constructor, but this modifier can’t be applied to the top-level classes and interface.\n",
    "* The protected modifier becomes important while implementing inheritance."
   ]
  },
  {
   "cell_type": "markdown",
   "id": "50c506d3-ded7-46dc-8b2c-f273c021dc9e",
   "metadata": {},
   "source": [
    "Q5: What is the purpose of the \"super\" keyword in inheritance? Provide an example."
   ]
  },
  {
   "cell_type": "markdown",
   "id": "7cdc5403-3edc-4327-8574-79c2d4134081",
   "metadata": {},
   "source": [
    "Ans:\n",
    "\n",
    "In Python, the super() function is used to refer to the parent class or superclass. It allows you to call methods defined in the superclass from the subclass, enabling you to extend and customize the functionality inherited from the parent class. "
   ]
  },
  {
   "cell_type": "code",
   "execution_count": 4,
   "id": "88400b90-ac02-46da-b0c8-a05d71f1dcdb",
   "metadata": {},
   "outputs": [],
   "source": [
    "class Person:\n",
    "    def __init__(self,name):\n",
    "        self.name = name \n",
    "        \n",
    "    def display_info(self):\n",
    "        print('Details')\n",
    "        print(f\"Name: {self.name}\")\n",
    "\n",
    "class Student(Person):\n",
    "    \n",
    "    def __init__(self,name,grade): \n",
    "        super().__init__(name)  #super() referring  to the parent derived class\n",
    "        self.grade = grade  \n",
    "        \n",
    "    def display_info(self):\n",
    "        super().display_info()  #super() referring  to the parent derived class\n",
    "        print(f\"Grade: {self.grade}\")"
   ]
  },
  {
   "cell_type": "markdown",
   "id": "f8d3d1c8-0b76-4fc3-a3ea-8e2f61bece1d",
   "metadata": {},
   "source": [
    "Q6:Create a base class called \"Vehicle\" with attributes like \"make\", \"model\", and \"year\".\n",
    "Then, create a derived class called \"Car\" that inherits from \"Vehicle\" and adds an\n",
    "attribute called \"fuel_type\". Implement appropriate methods in both classes."
   ]
  },
  {
   "cell_type": "code",
   "execution_count": 5,
   "id": "cb4b9076-0f57-45a2-9016-a34399db094b",
   "metadata": {},
   "outputs": [],
   "source": [
    "#ans\n",
    "\n",
    "class vehicle:\n",
    "    def __init__(self,make,model,year):\n",
    "        self.make  = make \n",
    "        self.model = model\n",
    "        self.year  = year\n",
    "        \n",
    "    def Initialising(self):\n",
    "        print(f\"Welcome!! to  {self.make } {self.model}\") \n",
    "    \n",
    "    def start(self):\n",
    "        print(f\"The {self.make} is starting\")\n",
    "        \n",
    "    def stop(self): \n",
    "        print(f\"The {self.make} has stopped!\")\n",
    "        "
   ]
  },
  {
   "cell_type": "code",
   "execution_count": 6,
   "id": "0dcfd5bc-23bb-4995-ba26-1554ec1b25b1",
   "metadata": {},
   "outputs": [],
   "source": [
    "class Car(vehicle):\n",
    "    \n",
    "    def __init__(self , make, model, year, fuel_type):\n",
    "        super().__init__(make, model, year)\n",
    "        self.fuel_type = fuel_type \n",
    "        \n",
    "    \n",
    "    def Initialising(self):\n",
    "        super().Initialising()\n",
    "        \n",
    "    def start(self):\n",
    "        super().start()\n",
    "        print(f\"Please fasten your seat belt!\")\n",
    "        \n",
    "    def display_info(self):\n",
    "        print(f\"::::{ self.make}::::\")\n",
    "        print(\"---------------\")\n",
    "        print(f\"Model:     {self.model }\")\n",
    "        print(f\"Year:      {self.year}\")\n",
    "        print(f\"Fuel Type: {self.fuel_type}\")\n",
    "              \n",
    "    def stop(self): \n",
    "        super().stop()\n",
    "        print('Thank You!')"
   ]
  },
  {
   "cell_type": "code",
   "execution_count": 7,
   "id": "a74e7024-3171-49a7-88bf-50aef8c60aad",
   "metadata": {},
   "outputs": [],
   "source": [
    "car1= Car('Baleno','Zeta',2016,'Petrol')"
   ]
  },
  {
   "cell_type": "code",
   "execution_count": 8,
   "id": "97f2b109-ae34-4b82-9100-e127e02cf766",
   "metadata": {},
   "outputs": [
    {
     "name": "stdout",
     "output_type": "stream",
     "text": [
      "Welcome!! to  Baleno Zeta\n"
     ]
    }
   ],
   "source": [
    "car1.Initialising()"
   ]
  },
  {
   "cell_type": "code",
   "execution_count": 9,
   "id": "13d3b010-8679-45b4-980c-ea64fac28bca",
   "metadata": {},
   "outputs": [
    {
     "name": "stdout",
     "output_type": "stream",
     "text": [
      "The Baleno is starting\n",
      "Please fasten your seat belt!\n"
     ]
    }
   ],
   "source": [
    "car1.start()"
   ]
  },
  {
   "cell_type": "code",
   "execution_count": 10,
   "id": "a27504db-49fc-44e1-9213-a607d9a58482",
   "metadata": {},
   "outputs": [
    {
     "name": "stdout",
     "output_type": "stream",
     "text": [
      "The Baleno has stopped!\n",
      "Thank You!\n"
     ]
    }
   ],
   "source": [
    "car1.stop()"
   ]
  },
  {
   "cell_type": "code",
   "execution_count": 12,
   "id": "841e6bb7-96a1-4fc4-8dcb-8725f9b9f247",
   "metadata": {},
   "outputs": [
    {
     "name": "stdout",
     "output_type": "stream",
     "text": [
      "::::Baleno::::\n",
      "---------------\n",
      "Model:     Zeta\n",
      "Year:      2016\n",
      "Fuel Type: Petrol\n"
     ]
    }
   ],
   "source": [
    "car1.display_info()"
   ]
  },
  {
   "cell_type": "markdown",
   "id": "1c95e3c1-5ad4-4ce9-bc2c-eb8d97425dca",
   "metadata": {},
   "source": [
    "Q7:Create a base class called \"Employee\" with attributes like \"name\" and \"salary.\"\n",
    "Derive two classes, \"Manager\" and \"Developer,\" from \"Employee.\" Add an additional\n",
    "attribute called \"department\" for the \"Manager\" class and \"programming_language\"\n",
    "for the \"Developer\" class."
   ]
  },
  {
   "cell_type": "code",
   "execution_count": 13,
   "id": "70d92785-37c4-43c7-8a6f-3fd58aacb3f8",
   "metadata": {},
   "outputs": [],
   "source": [
    "class Employee: \n",
    "    def __init__(self,name,salary):\n",
    "        self.name   = name\n",
    "        self.salary = salary\n",
    "        \n",
    "        \n",
    "    def Employee_details(self): \n",
    "        print(\"Employee Details\")\n",
    "        print(\"---------------\")\n",
    "        print(f\"Name of the Employee:  {self.name}\")\n",
    "        \n",
    "        \n",
    "    \n",
    "class  Manager(Employee):\n",
    "    \n",
    "    def __init__(self,name,salary,department):\n",
    "        super().__init__(name,salary)\n",
    "        self.department = department\n",
    "    \n",
    "    def Employee_details(self):\n",
    "        super().Employee_details()\n",
    "        print(f\"Employee Department:   { self.department}\")\n",
    "        print(f\"Salary :               {self.salary}\")\n",
    "        \n",
    "    \n",
    "class Developer(Employee):   \n",
    "    \n",
    "    def __init__(self,name,salary,programming_language):\n",
    "        super().__init__(name,salary)\n",
    "        self.programming_language = programming_language\n",
    "        \n",
    "    def Employee_details(self):\n",
    "        super().Employee_details()\n",
    "        print(f\"Programming Language:  {self.programming_language} \")\n",
    "        print(f\"Salary :               {self.salary}\")"
   ]
  },
  {
   "cell_type": "code",
   "execution_count": 14,
   "id": "9aa0af3b-e69c-4d46-91d2-7cc252cedbd6",
   "metadata": {},
   "outputs": [],
   "source": [
    "Manager1 =  Manager('Abraham Mattew',96000,'Sales' )\n",
    "Developer1 =  Developer(\"Ashna John\",105000, 'Java')"
   ]
  },
  {
   "cell_type": "code",
   "execution_count": 15,
   "id": "cd014eb6-2de2-447e-9b15-d3ac279f46a5",
   "metadata": {},
   "outputs": [
    {
     "name": "stdout",
     "output_type": "stream",
     "text": [
      "Employee Details\n",
      "---------------\n",
      "Name of the Employee:  Abraham Mattew\n",
      "Employee Department:   Sales\n",
      "Salary :               96000\n"
     ]
    }
   ],
   "source": [
    "Manager1.Employee_details()"
   ]
  },
  {
   "cell_type": "code",
   "execution_count": 16,
   "id": "bc8f56a5-7440-4148-affd-0a551e208f6b",
   "metadata": {},
   "outputs": [
    {
     "name": "stdout",
     "output_type": "stream",
     "text": [
      "Employee Details\n",
      "---------------\n",
      "Name of the Employee:  Ashna John\n",
      "Programming Language:  Java \n",
      "Salary :               105000\n"
     ]
    }
   ],
   "source": [
    "Developer1.Employee_details()"
   ]
  },
  {
   "cell_type": "markdown",
   "id": "faee2792-500a-43b2-93ec-1ae3f5af70e8",
   "metadata": {},
   "source": [
    "Q8:Design a base class called \"Shape\" with attributes like \"colour\" and \"border_width.\"\n",
    "Create derived classes, \"Rectangle\" and \"Circle,\" that inherit from \"Shape\" and add\n",
    "specific attributes like \"length\" and \"width\" for the \"Rectangle\" class and \"radius\" for\n",
    "the \"Circle\" class."
   ]
  },
  {
   "cell_type": "code",
   "execution_count": 17,
   "id": "c221a08b-f294-4503-92b4-c9026c1edd32",
   "metadata": {},
   "outputs": [],
   "source": [
    "class Shape:\n",
    "    \n",
    "    def __init__(self,colour,border_width):\n",
    "        self.colour       = colour\n",
    "        self.border_width = border_width\n",
    "        \n",
    "    def start_drawing(self):\n",
    "        print('Have Fun! :)')\n",
    "        \n",
    "        \n",
    "class Rectangle(Shape):\n",
    "    \n",
    "    def __init__(self,colour,border_width,length,width):\n",
    "        super().__init__(colour,border_width)\n",
    "        self.length = length \n",
    "        self.width  = width \n",
    "        \n",
    "    def start_drawing(self):\n",
    "        super().start_drawing()\n",
    "        print('You have drwan a Rectangle having::')\n",
    "        print(f'color:         {self.colour}')\n",
    "        print(f\"Border_width:  {self.border_width}\")\n",
    "        print(f'length:        {self.length} ')\n",
    "        print(f'width:         {self.width} ')\n",
    "        \n",
    "    \n",
    "class Circle(Shape):\n",
    "    \n",
    "    def __init__(self,colour,border_width,radius):\n",
    "        super().__init__(colour,border_width)\n",
    "        self.radius = radius \n",
    "        \n",
    "        \n",
    "    def  start_drawing(self):\n",
    "        super().start_drawing()\n",
    "        print('You have drwan a Circle havin::')\n",
    "        print(f'color:         {self.colour}')\n",
    "        print(f\"Border_width:  {self.border_width}\")\n",
    "        print(f'Radius :       {self.radius} ')"
   ]
  },
  {
   "cell_type": "code",
   "execution_count": 18,
   "id": "c66ca2ff-a864-40a1-9f16-19b27668431e",
   "metadata": {},
   "outputs": [],
   "source": [
    "shape1 = Rectangle('Black',2.5,8,5)\n",
    "shape2 = Circle('Red',2.5,3)"
   ]
  },
  {
   "cell_type": "code",
   "execution_count": 19,
   "id": "bdb7f310-bd51-434b-b2d9-65863d8f30b5",
   "metadata": {},
   "outputs": [
    {
     "name": "stdout",
     "output_type": "stream",
     "text": [
      "Have Fun! :)\n",
      "You have drwan a Rectangle having::\n",
      "color:         Black\n",
      "Border_width:  2.5\n",
      "length:        8 \n",
      "width:         5 \n"
     ]
    }
   ],
   "source": [
    "shape1. start_drawing()"
   ]
  },
  {
   "cell_type": "code",
   "execution_count": 20,
   "id": "95f67e4d-adfc-4fd1-a2ce-57202d293134",
   "metadata": {},
   "outputs": [
    {
     "name": "stdout",
     "output_type": "stream",
     "text": [
      "Have Fun! :)\n",
      "You have drwan a Circle havin::\n",
      "color:         Red\n",
      "Border_width:  2.5\n",
      "Radius :       3 \n"
     ]
    }
   ],
   "source": [
    "shape2.start_drawing()"
   ]
  },
  {
   "cell_type": "markdown",
   "id": "5ff12548-65b2-4736-8ae5-6a7ab88f5ad3",
   "metadata": {},
   "source": [
    "Q9:Create a base class called \"Device\" with attributes like \"brand\" and \"model.\" Derive\n",
    "two classes, \"Phone\" and \"Tablet,\" from \"Device.\" Add specific attributes like\n",
    "\"screen_size\" for the \"Phone\" class and \"battery_capacity\" for the \"Tablet\" class."
   ]
  },
  {
   "cell_type": "code",
   "execution_count": 21,
   "id": "0ce5a5e6-8fc4-4a36-b680-9d3266840967",
   "metadata": {},
   "outputs": [],
   "source": [
    "class Device:\n",
    "    def __init__(self,brand,model):\n",
    "        self.brand = brand\n",
    "        self.model = model\n",
    "        \n",
    "    def Display_Details(self):\n",
    "        print(f\":::::::::::::Details::::::::::::\")\n",
    "        print('--------------------------------')\n",
    "        print(f\"Brand:             {self.brand}\")\n",
    "        print(f\"Model:             {self.model}\")\n",
    "        \n",
    "class Phone(Device):\n",
    "    def __init__(self,brand,model,screen_size):\n",
    "        super().__init__(brand,model)\n",
    "        self.screen_size = screen_size\n",
    "        \n",
    "    def Phone_Details(self):\n",
    "        super().Display_Details()\n",
    "        print(f\"Screen Size:       {self.screen_size} inches \")\n",
    "        \n",
    "class Tablet(Device):    \n",
    "    def __init__(self,brand,model,battery_capacity):\n",
    "        super().__init__(brand,model)  \n",
    "        self.battery_capacity = battery_capacity\n",
    "        \n",
    "    def Tablet_details(self):\n",
    "        super().Display_Details()\n",
    "        print(f\"Battery Capacity:  {self.battery_capacity} mAh\" )"
   ]
  },
  {
   "cell_type": "code",
   "execution_count": 22,
   "id": "fe039801-0623-4ccd-bc81-f5177928f3d3",
   "metadata": {},
   "outputs": [],
   "source": [
    "phone = Phone('Samsung ','Galaxy S22 Ulra',6.8 )\n",
    "Tablet  = Tablet('Samsung','Galaxy Tab A 8',7040 )"
   ]
  },
  {
   "cell_type": "code",
   "execution_count": 23,
   "id": "5adc9a09-28fc-419e-8f41-8fd9ee4bf7eb",
   "metadata": {},
   "outputs": [
    {
     "name": "stdout",
     "output_type": "stream",
     "text": [
      ":::::::::::::Details::::::::::::\n",
      "--------------------------------\n",
      "Brand:             Samsung \n",
      "Model:             Galaxy S22 Ulra\n",
      "Screen Size:       6.8 inches \n"
     ]
    }
   ],
   "source": [
    "phone.Phone_Details()"
   ]
  },
  {
   "cell_type": "code",
   "execution_count": 24,
   "id": "de4dd1f1-1378-41c3-ab5b-71fad67bf683",
   "metadata": {},
   "outputs": [
    {
     "name": "stdout",
     "output_type": "stream",
     "text": [
      ":::::::::::::Details::::::::::::\n",
      "--------------------------------\n",
      "Brand:             Samsung\n",
      "Model:             Galaxy Tab A 8\n",
      "Battery Capacity:  7040 mAh\n"
     ]
    }
   ],
   "source": [
    "Tablet.Tablet_details()"
   ]
  },
  {
   "cell_type": "markdown",
   "id": "fb2eb5a2-9001-4de0-ae74-ff312b355d27",
   "metadata": {},
   "source": [
    "Q10:Create a base class called \"BankAccount\" with attributes like \"account_number\" and\n",
    "\"balance.\" Derive two classes, \"SavingsAccount\" and \"CheckingAccount,\" from\n",
    "\"BankAccount.\" Add specific methods like \"calculate_interest\" for the\n",
    "\"SavingsAccount\" class and \"deduct_fees\" for the \"CheckingAccount\" class."
   ]
  },
  {
   "cell_type": "code",
   "execution_count": 25,
   "id": "20394ecc-a6af-4d5e-a726-f2260f3bce04",
   "metadata": {},
   "outputs": [],
   "source": [
    "class BankAccount:\n",
    "    def __init__(self,account_number,balance):\n",
    "        self.account_number =  account_number \n",
    "        self.balance        = balance \n",
    " \n",
    "    def deposit(self,amount):\n",
    "        self.balance = self.balance + amount \n",
    "        print(f\"{amount} has been deposited.\")\n",
    "        Balance = int(input(\"Do you want to display the current balance? Yes:1 /No:0\"))\n",
    "        if Balance == 1:\n",
    "             print(f\"Current balance: {self.balance}\")\n",
    "        else:\n",
    "            pass \n",
    "        \n",
    "        \n",
    "    def withdraw(self,amount):\n",
    "        if self.balance >= 1000:\n",
    "            self.balance = self.balance - amount\n",
    "            print(f\"{amount} has been withdrawn.\")\n",
    "            Balance = int(input(\"Do you want to display the current balance? Yes:1 /No:0\"))\n",
    "            if Balance == 1:\n",
    "                print(f\"Current balance: {self.balance}\")\n",
    "            else:\n",
    "                pass \n",
    "            \n",
    "        else:\n",
    "            print(f\"Sorry! Insufficient balance\")\n",
    "            \n",
    "    def display_info(self):\n",
    "        print(':::::::ACCOUNT DETAILS:::::::')\n",
    "        print('-----------------------------')\n",
    "        print(f'Account Number:   {self.account_number}')\n",
    "        print(f\"Current Balance:  {self.balance}\")\n",
    "        \n",
    "        \n",
    "        \n",
    "class SavingsAccount( BankAccount): \n",
    "    \n",
    "   \n",
    "    def __init__(self, account_number, balance):\n",
    "        super().__init__(account_number, balance)\n",
    "        \n",
    "    \n",
    "    def calculate_interest(self, rate):\n",
    "        interest = self.balance * rate\n",
    "        self.deposit(interest)\n",
    "        \n",
    "\n",
    "        \n",
    "class CheckingAccount( BankAccount):\n",
    "    \n",
    "    def __init__(self, account_number, balance):\n",
    "        super().__init__(account_number, balance)\n",
    "\n",
    "    def deduct_fees(self,fee):\n",
    "        self.balance =  self.balance - fee\n",
    "        print(f'Rs.{fee} has been deducted from you account')\n",
    "\n",
    "    \n",
    "    \n",
    "    "
   ]
  },
  {
   "cell_type": "code",
   "execution_count": 26,
   "id": "bbddc158-e57c-448c-a94d-3b377bb740c0",
   "metadata": {},
   "outputs": [],
   "source": [
    "Account1 = SavingsAccount('SBI78954120',100000)\n",
    "Account2 = CheckingAccount('SBI98954120',950000)"
   ]
  },
  {
   "cell_type": "code",
   "execution_count": 27,
   "id": "df640b06-1355-44aa-8299-c56ad4ddb9ba",
   "metadata": {},
   "outputs": [
    {
     "name": "stdout",
     "output_type": "stream",
     "text": [
      "8000 has been deposited.\n"
     ]
    },
    {
     "name": "stdin",
     "output_type": "stream",
     "text": [
      "Do you want to display the current balance? Yes:1 /No:0 1\n"
     ]
    },
    {
     "name": "stdout",
     "output_type": "stream",
     "text": [
      "Current balance: 108000\n"
     ]
    }
   ],
   "source": [
    "Account1.deposit(8000)"
   ]
  },
  {
   "cell_type": "code",
   "execution_count": 28,
   "id": "7cd8cd3e-b9c9-4965-81a8-9b7e1abb6994",
   "metadata": {},
   "outputs": [
    {
     "name": "stdout",
     "output_type": "stream",
     "text": [
      "500 has been withdrawn.\n"
     ]
    },
    {
     "name": "stdin",
     "output_type": "stream",
     "text": [
      "Do you want to display the current balance? Yes:1 /No:0 1\n"
     ]
    },
    {
     "name": "stdout",
     "output_type": "stream",
     "text": [
      "Current balance: 107500\n"
     ]
    }
   ],
   "source": [
    "Account1.withdraw(500)"
   ]
  },
  {
   "cell_type": "code",
   "execution_count": 133,
   "id": "9881d139-842b-4ff2-9153-61ee31dff839",
   "metadata": {},
   "outputs": [
    {
     "name": "stdout",
     "output_type": "stream",
     "text": [
      "838500.0 has been deposited.\n"
     ]
    },
    {
     "name": "stdin",
     "output_type": "stream",
     "text": [
      "Do you want to display the current balance? Yes:1 /No:0 1\n"
     ]
    },
    {
     "name": "stdout",
     "output_type": "stream",
     "text": [
      "Current balance: 946000.0\n"
     ]
    }
   ],
   "source": [
    "Account1.calculate_interest(7.8)"
   ]
  },
  {
   "cell_type": "code",
   "execution_count": 134,
   "id": "3f768366-6cf5-471d-85ec-c4514d17dffb",
   "metadata": {},
   "outputs": [
    {
     "name": "stdout",
     "output_type": "stream",
     "text": [
      "Rs.10 has been deducted from you account\n"
     ]
    }
   ],
   "source": [
    "Account2.deduct_fees(10)"
   ]
  },
  {
   "cell_type": "code",
   "execution_count": 135,
   "id": "29523287-3057-4038-b1f1-b2584eb6411a",
   "metadata": {},
   "outputs": [
    {
     "name": "stdout",
     "output_type": "stream",
     "text": [
      ":::::::ACCOUNT DETAILS:::::::\n",
      "-----------------------------\n",
      "Account Number:   SBI78954120\n",
      "Current Balance:  946000.0\n"
     ]
    }
   ],
   "source": [
    "Account1.display_info()"
   ]
  },
  {
   "cell_type": "code",
   "execution_count": 136,
   "id": "9c202b9e-a57c-47b0-b544-9c8d45ab1a3a",
   "metadata": {},
   "outputs": [
    {
     "name": "stdout",
     "output_type": "stream",
     "text": [
      ":::::::ACCOUNT DETAILS:::::::\n",
      "-----------------------------\n",
      "Account Number:   SBI98954120\n",
      "Current Balance:  949990\n"
     ]
    }
   ],
   "source": [
    "Account2.display_info()"
   ]
  }
 ],
 "metadata": {
  "kernelspec": {
   "display_name": "Python 3 (ipykernel)",
   "language": "python",
   "name": "python3"
  },
  "language_info": {
   "codemirror_mode": {
    "name": "ipython",
    "version": 3
   },
   "file_extension": ".py",
   "mimetype": "text/x-python",
   "name": "python",
   "nbconvert_exporter": "python",
   "pygments_lexer": "ipython3",
   "version": "3.10.6"
  }
 },
 "nbformat": 4,
 "nbformat_minor": 5
}
