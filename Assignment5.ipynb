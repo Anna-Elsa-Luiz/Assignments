{
 "cells": [
  {
   "cell_type": "markdown",
   "id": "db6d581f-463d-4fc0-ba8e-66a7b547608b",
   "metadata": {},
   "source": [
    "Assignment 5 "
   ]
  },
  {
   "cell_type": "markdown",
   "id": "fbe86363-ac7f-46db-b8fc-dee59ca1c15d",
   "metadata": {},
   "source": [
    "Q1: What does an empty dictionary's code look like?"
   ]
  },
  {
   "cell_type": "code",
   "execution_count": 1,
   "id": "8294c0c2-52bf-4e02-bf63-9da507d239c7",
   "metadata": {},
   "outputs": [],
   "source": [
    "#Empty dictionary --> \n",
    "dict = { } "
   ]
  },
  {
   "cell_type": "markdown",
   "id": "e5e139d6-2f53-4ae3-b431-960a92d16046",
   "metadata": {},
   "source": [
    "Ans:\n",
    "    \n",
    "A dictionary in Python is an ordered collection of items. Each item stored in a dictionary has a key and a value, making it  a key-value pair .\n",
    "\n",
    "A dictionary is created by placing item (key- value  pair) inside the curly braces.\n",
    "\n",
    " \n"
   ]
  },
  {
   "cell_type": "markdown",
   "id": "31e45e9e-2dea-4dbd-9095-a4fbdc913f24",
   "metadata": {},
   "source": [
    "Q2: What is the value of a dictionary value with the key 'foo' and the value 42?"
   ]
  },
  {
   "cell_type": "markdown",
   "id": "9c92c75f-5b2c-4f0c-accd-67009d104e30",
   "metadata": {},
   "source": [
    "Ans:\n",
    "\n",
    "Dictionary value is  Dict = {‘foo’ : 42} , it has a value of 42 with key  foo. "
   ]
  },
  {
   "cell_type": "markdown",
   "id": "8653133d-0de1-4383-9af4-0ccaddd5f632",
   "metadata": {},
   "source": [
    "Q3: What is the most significant distinction between a dictionary and a list?"
   ]
  },
  {
   "cell_type": "markdown",
   "id": "3eba424c-f765-4719-a7f8-056742004c58",
   "metadata": {},
   "source": [
    "Ans:\n",
    "    \n",
    "A List is an ordered collection of items. \n",
    "\n",
    "Dictionary is an unordered collection of items (key- value pair)."
   ]
  },
  {
   "cell_type": "markdown",
   "id": "a227a6b2-885c-4b6e-971e-2315917c51bb",
   "metadata": {},
   "source": [
    "Q4: What happens if you try to access spam['foo'] if spam is {'bar': 100}?"
   ]
  },
  {
   "cell_type": "markdown",
   "id": "8e2e405c-ba49-462f-9dd9-98b770990b3d",
   "metadata": {},
   "source": [
    "Ans:\n",
    "    \n",
    "It shows KeyError . In the dictionary spam there is no key named foo. "
   ]
  },
  {
   "cell_type": "code",
   "execution_count": 2,
   "id": "0aff4bb3-0c67-43e1-aedd-46df48afc22a",
   "metadata": {},
   "outputs": [
    {
     "ename": "KeyError",
     "evalue": "'foo'",
     "output_type": "error",
     "traceback": [
      "\u001b[0;31m---------------------------------------------------------------------------\u001b[0m",
      "\u001b[0;31mKeyError\u001b[0m                                  Traceback (most recent call last)",
      "Cell \u001b[0;32mIn [2], line 2\u001b[0m\n\u001b[1;32m      1\u001b[0m spam\u001b[38;5;241m=\u001b[39m {\u001b[38;5;124m'\u001b[39m\u001b[38;5;124mbar\u001b[39m\u001b[38;5;124m'\u001b[39m:\u001b[38;5;241m100\u001b[39m}\n\u001b[0;32m----> 2\u001b[0m \u001b[43mspam\u001b[49m\u001b[43m[\u001b[49m\u001b[38;5;124;43m'\u001b[39;49m\u001b[38;5;124;43mfoo\u001b[39;49m\u001b[38;5;124;43m'\u001b[39;49m\u001b[43m]\u001b[49m\n",
      "\u001b[0;31mKeyError\u001b[0m: 'foo'"
     ]
    }
   ],
   "source": [
    "spam= {'bar':100}\n",
    "spam['foo']"
   ]
  },
  {
   "cell_type": "markdown",
   "id": "7322e823-d031-4bad-87e2-4038653ecc17",
   "metadata": {},
   "source": [
    "Q5: If a dictionary is stored in spam, what is the difference between the expressions 'cat' in spam and 'cat' in spam.keys()?"
   ]
  },
  {
   "cell_type": "markdown",
   "id": "049e7be7-4a54-48a2-9b05-0d65b7d67342",
   "metadata": {},
   "source": [
    "Ans:\n",
    "    \n",
    "The in operator checks whether a value exists as a key in the dictionary so there is no difference between those two."
   ]
  },
  {
   "cell_type": "markdown",
   "id": "5f484eb4-dd91-4926-9b28-8cd9a02144e4",
   "metadata": {},
   "source": [
    "Q6: If a dictionary is stored in spam, what is the difference between the expressions 'cat' in spam and 'cat' in spam.values()?"
   ]
  },
  {
   "cell_type": "markdown",
   "id": "b6596534-b096-4248-9e63-0f742a5794cd",
   "metadata": {},
   "source": [
    "Ans: \n",
    "    \n",
    "‘cat' in spam checks whether there is a 'cat' key in the dictionary, while 'cat' in spam.values()  checks whether there is a value 'cat' for one of the keys in spam.   "
   ]
  },
  {
   "cell_type": "markdown",
   "id": "27214f35-b4e4-47cb-ba28-8e7cc732f065",
   "metadata": {},
   "source": [
    "Q7: What is a shortcut for the following code?\n",
    "\n",
    "if 'color' not in spam:\n",
    "\n",
    "      spam['color'] = 'black'\n"
   ]
  },
  {
   "cell_type": "code",
   "execution_count": 3,
   "id": "a1ef28e5-3c7d-42cd-9df9-8cce4a922d3b",
   "metadata": {},
   "outputs": [
    {
     "data": {
      "text/plain": [
       "'black'"
      ]
     },
     "execution_count": 3,
     "metadata": {},
     "output_type": "execute_result"
    }
   ],
   "source": [
    "spam.setdefault('color', 'black') "
   ]
  },
  {
   "cell_type": "markdown",
   "id": "205deccb-504c-490b-af35-48a8803db0bb",
   "metadata": {},
   "source": [
    "Q8: How do you \"pretty print\" dictionary values using which module and function?"
   ]
  },
  {
   "cell_type": "markdown",
   "id": "20b5f0a9-a782-472a-afa2-c9a4b5aabe07",
   "metadata": {},
   "source": [
    "pprint.pprint()"
   ]
  },
  {
   "cell_type": "code",
   "execution_count": null,
   "id": "5748eb18-d353-400d-86a8-87f31d8c1249",
   "metadata": {},
   "outputs": [],
   "source": []
  }
 ],
 "metadata": {
  "kernelspec": {
   "display_name": "Python 3 (ipykernel)",
   "language": "python",
   "name": "python3"
  },
  "language_info": {
   "codemirror_mode": {
    "name": "ipython",
    "version": 3
   },
   "file_extension": ".py",
   "mimetype": "text/x-python",
   "name": "python",
   "nbconvert_exporter": "python",
   "pygments_lexer": "ipython3",
   "version": "3.10.6"
  }
 },
 "nbformat": 4,
 "nbformat_minor": 5
}
