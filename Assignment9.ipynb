{
 "cells": [
  {
   "cell_type": "markdown",
   "id": "bba7725e-c7c9-4fa2-9606-f890590eb5d0",
   "metadata": {},
   "source": [
    "Assignment 9 "
   ]
  },
  {
   "cell_type": "markdown",
   "id": "fa9eb07f-68f9-4c47-9ea9-e57ada5323c1",
   "metadata": {},
   "source": [
    "Q1:What is a lambda function in Python, and how does it differ from a regular function?"
   ]
  },
  {
   "cell_type": "markdown",
   "id": "7900fc26-ca67-4703-ae8f-c0f79dcc0adb",
   "metadata": {},
   "source": [
    "Ans:\n",
    "    \n",
    "1. Lambda are used for simple functions using the keyword **lambda**.\n",
    "2. lambda function is a special type of function without the function name.\n",
    "3. They are useful when we need to create a function that will only need to be used once (a throw-away function) and can be written in one line. \n",
    "4. Lambda functions can have any number of parameters but can only have one expression.\n",
    "5. The expression is evaluated and returned when the function is called.\n",
    "6. Lambda functions do not require a return statement, the expression is implicitly returned.\n",
    "7. They can be used wherever function objects are required, like inside functions like map(), filter(), and reduce().\n",
    "8. You can't include statements like loops, if, or else in lambda functions; only expressions are allowed.\n",
    "9. Lambda functions are useful for small tasks that are not reused throughout your code.\n",
    "10. They can be assigned to variables and used like regular functions.\n",
    "11. They generally have this format which yields a function object:\n",
    "    * lambda parameters: expression\n",
    "\n",
    "_________________________________________________________\n",
    "\n",
    "Difference between Normal def defined function and Lambda\n",
    "-------------------------------------------------------------------------------------------------------------------------------------------\n",
    "\n",
    "* def defined functions are commonly used because of their simplicity. \n",
    "* The def defined functions do not return anything if not explicitly returned whereas the lambda function does return an object. \n",
    "* The def functions must be declared in the namespace. \n",
    "* The def functions can perform any python task including multiple conditions, nested conditions or loops of any level, printing, importing libraries, raising Exceptions, etc. \n",
    "* The lambda functions can be used without any declaration in the namespace. \n",
    "* These functions do not have parenthesis like the def defined functions but instead, take parameters after the lambda keyword as shown above. \n",
    "* There is no return keyword defined explicitly because the lambda function does return an object by default."
   ]
  },
  {
   "cell_type": "markdown",
   "id": "7056270c-78e6-4c42-a187-949455d5063b",
   "metadata": {},
   "source": [
    "Q2:Can a lambda function in Python have multiple arguments? If yes, how can you define and use\n",
    "them?"
   ]
  },
  {
   "cell_type": "markdown",
   "id": "a6f6aa8f-ffd9-4550-8c23-5eb6ab57ea30",
   "metadata": {},
   "source": [
    "Ans:\n",
    "    \n",
    "Python lambda can be used with multiple arguments and these arguments are used in evaluating an expression to return a single value. "
   ]
  },
  {
   "cell_type": "code",
   "execution_count": 1,
   "id": "5a715c44-e7fe-4d01-a2d2-7c6681188a20",
   "metadata": {},
   "outputs": [
    {
     "name": "stdout",
     "output_type": "stream",
     "text": [
      "30\n"
     ]
    }
   ],
   "source": [
    "#Eg.1 :\n",
    "\n",
    "\n",
    "add = lambda x, y : x + y\n",
    "print(add(10, 20))  \n"
   ]
  },
  {
   "cell_type": "code",
   "execution_count": 2,
   "id": "a93cd224-3f01-4620-abf5-950ec54a8236",
   "metadata": {},
   "outputs": [
    {
     "name": "stdout",
     "output_type": "stream",
     "text": [
      "[7, 7, 7, 7, 7]\n"
     ]
    }
   ],
   "source": [
    "#Eg.2 :\n",
    "\n",
    "\n",
    "numbers1 = [2, 4, 5, 6, 0]\n",
    "numbers2 = [5, 3, 2, 1, 7]\n",
    "\n",
    "# Create lambda function that takes two arguments\n",
    "add_fun = lambda x, y: x+y\n",
    "\n",
    "# Use lambda with map() function\n",
    "add_result = list(map(add_fun, numbers1, numbers2))\n",
    "print(add_result) \n"
   ]
  },
  {
   "cell_type": "markdown",
   "id": "999307d0-7571-40aa-8615-0d4bd36a9ccd",
   "metadata": {},
   "source": [
    "Q3:How are lambda functions typically used in Python? Provide an example use case"
   ]
  },
  {
   "cell_type": "markdown",
   "id": "68fa84de-6314-46bc-805f-188f4c3a7e79",
   "metadata": {},
   "source": [
    "Ans:\n",
    "    \n",
    "* As a rule of thumb, the following instances give you an idea where using a Lambda expression will be beneficial-\n",
    "\n",
    "  * The input of a function is an output of another direct function.\n",
    "  * The function will only be called once- and then the output corresponds to a higher order function.\n",
    "  * There are many similar functions with similar structures.    \n",
    "    \n",
    "----------------------------------\n",
    "Lambda functions are used for;\n",
    "\n",
    "1. Sorting Lists with Custom Keys.\n",
    "2. Filtering Lists with the filter() Function.\n",
    "3. Applying Transformations with the map() Function.\n",
    "4. Using Lambda Functions with functools.reduce().\n",
    "5. Creating Small, One-Time-Use Functions.\n",
    "6. Implementing Simple Event Handlers.\n",
    "7. Using Lambda Functions in GUI Programming with Tkinter.\n",
    "8. Implementing Custom Comparison Functions for Data Structures.\n",
    "9. Using Lambda Functions in Concurrent Programming with ThreadPoolExecutor\n",
    "\n",
    "\n",
    "\n",
    "\n",
    " "
   ]
  },
  {
   "cell_type": "code",
   "execution_count": 8,
   "id": "b2bfa192-8e4d-4f56-8195-7b0017bd8943",
   "metadata": {},
   "outputs": [
    {
     "name": "stdout",
     "output_type": "stream",
     "text": [
      "[('Bob', 85), ('Alice', 90), ('Charlie', 92)]\n"
     ]
    }
   ],
   "source": [
    "#Eg:\n",
    "students = [('Alice', 90), ('Bob', 85), ('Charlie', 92)]\n",
    "\n",
    "sorted_students = sorted(students, key=lambda x: x[1])\n",
    "\n",
    "print(sorted_students)"
   ]
  },
  {
   "cell_type": "markdown",
   "id": "838adfad-0fc9-478d-8d37-59e553ac8a89",
   "metadata": {},
   "source": [
    "Q4:What are the advantages and limitations of lambda functions compared to regular functions in\n",
    "Python?"
   ]
  },
  {
   "cell_type": "markdown",
   "id": "d7687563-5bfa-4437-9a76-e209b5e7b011",
   "metadata": {},
   "source": [
    "\n",
    "Advantages\n",
    "-----------\n",
    "\n",
    "* The code is simple and clear.\n",
    "* No additional variables are added.\n",
    "   \n",
    "* In Python, iterables include strings, lists, dictionaries, ranges, tuples, and so on. When working with iterables, you can use lambda functions in conjunction with two common functions: filter() and map().\n",
    "\n",
    "    * Filter():When you want to focus on specific values in an iterable, you can use the filter function. The following is the syntax of a filter function\n",
    "\n",
    "    * Map(): You use the map () function whenever you want to modify every value in an iterable.\n",
    "* It encourages the use of functional programming.\n",
    "* It simplifies variable scope and encourages code reusability.\n",
    "* Lambdas allow you to use parallel processing.\n",
    "* They are easier to use in APIs and libraries. Lambdas are expressions and not direct functions. They can pass behaviours as well as data to functions\n",
    "\n",
    "\n",
    "\n",
    "Limitations\n",
    "--------------\n",
    "\n",
    "* Lambda expressions are a strange and unfamiliar syntax to many Python programmers.\n",
    "* Lambda functions themselves lack names and documentation, meaning that the only way to know what they do is to read the code.\n",
    "* Lambda expressions can only contain one statement, so some readable language features, such as tuple unpacking, cannot be used with them.\n",
    "* Lambda functions can often be replaced with existing functions in the standard library or Python built-in functions."
   ]
  },
  {
   "cell_type": "markdown",
   "id": "bd305c9d-deb8-4b47-b910-31a11b954181",
   "metadata": {},
   "source": [
    "Q5: Are lambda functions in Python able to access variables defined outside of their own scope?\n",
    "Explain with an example"
   ]
  },
  {
   "cell_type": "markdown",
   "id": "336e8cc6-8470-4759-bf2d-6a39df42fb7d",
   "metadata": {},
   "source": [
    "Ans:\n",
    "    \n",
    "lambda functions in Python can access variables defined outside of their own scope.    "
   ]
  },
  {
   "cell_type": "code",
   "execution_count": 25,
   "id": "521c74de-ad35-4cfe-aa9d-ef42a903340d",
   "metadata": {},
   "outputs": [
    {
     "name": "stdin",
     "output_type": "stream",
     "text": [
      "Enter an integer 6\n",
      "Enter the power 2\n"
     ]
    },
    {
     "name": "stdout",
     "output_type": "stream",
     "text": [
      "6^2 = 36\n"
     ]
    }
   ],
   "source": [
    "#Eg:\n",
    "def Power(n):\n",
    "    return lambda x: x ** n \n",
    "\n",
    "x = int(input(\"Enter an integer\"))\n",
    "n = int(input(\"Enter the power\"))\n",
    "\n",
    "result = Power(n)(x)\n",
    "print(f\"{x}^{n} = {result}\")\n"
   ]
  },
  {
   "cell_type": "markdown",
   "id": "9d8fc572-dfbb-45e0-8721-07d9bc5cab5c",
   "metadata": {},
   "source": [
    "Q6:Write a lambda function to calculate the square of a given number"
   ]
  },
  {
   "cell_type": "code",
   "execution_count": 3,
   "id": "a5672abf-da74-4b24-b0a4-2dfe6df812b0",
   "metadata": {},
   "outputs": [
    {
     "name": "stdin",
     "output_type": "stream",
     "text": [
      "Enter a number : 8\n"
     ]
    },
    {
     "name": "stdout",
     "output_type": "stream",
     "text": [
      "Square of 8 is 64\n"
     ]
    }
   ],
   "source": [
    "#ans:\n",
    "\n",
    "square = lambda x: x ** 2 \n",
    "x = int(input(\"Enter a number :\"))\n",
    "print(f\"Square of {x} is {square(x)}\") "
   ]
  },
  {
   "cell_type": "markdown",
   "id": "b91b17af-f9bf-4d06-8680-80752ae33ef8",
   "metadata": {},
   "source": [
    "Q7:Create a lambda function to find the maximum value in a list of integers"
   ]
  },
  {
   "cell_type": "code",
   "execution_count": 4,
   "id": "f106bf67-aa3b-4f5e-ab4f-829309afe26a",
   "metadata": {},
   "outputs": [
    {
     "name": "stdin",
     "output_type": "stream",
     "text": [
      "Enter a list of numbers, separated by spaces:  1.5 2.5 3.5 4.5 5.5 6.5\n"
     ]
    },
    {
     "name": "stdout",
     "output_type": "stream",
     "text": [
      "Maximum Value of the List:[1.5, 2.5, 3.5, 4.5, 5.5, 6.5] is 6.5 \n"
     ]
    }
   ],
   "source": [
    "#Ans:\n",
    "\n",
    "Max_Value = lambda List : max(List)\n",
    "\n",
    "Input_List = input(\"Enter a list of numbers, separated by spaces: \")\n",
    "List = list(map(float, Input_List.split()))\n",
    "Maximum   = Max_Value(List)\n",
    "\n",
    "print(f\"Maximum Value of the List:{List} is {Maximum} \")\n",
    "\n"
   ]
  },
  {
   "cell_type": "markdown",
   "id": "7890e9ee-71a4-4189-a2dc-96a3a90738ef",
   "metadata": {},
   "source": [
    "Q8:Implement a lambda function to filter out all the even numbers from a list of integers."
   ]
  },
  {
   "cell_type": "code",
   "execution_count": 5,
   "id": "7a26b892-64fb-42c9-b1a2-c3a37cc7bb63",
   "metadata": {},
   "outputs": [
    {
     "name": "stdin",
     "output_type": "stream",
     "text": [
      "Enter a list of numbers, separated by spaces:  2 3 4 6 9 12 23 56 59 58\n"
     ]
    },
    {
     "name": "stdout",
     "output_type": "stream",
     "text": [
      "Even numbers of the List:[2.0, 3.0, 4.0, 6.0, 9.0, 12.0, 23.0, 56.0, 59.0, 58.0] are [2.0, 4.0, 6.0, 12.0, 56.0, 58.0]\n"
     ]
    }
   ],
   "source": [
    "#Ans:\n",
    "\n",
    "\n",
    "Even_numbers = lambda Even : list(filter(lambda x: x % 2 == 0,Even))\n",
    "\n",
    "\n",
    "Input_List   = input(\"Enter a list of numbers, separated by spaces: \")\n",
    "List         = list(map(float, Input_List.split()))\n",
    "\n",
    "\n",
    "print(f\"Even numbers of the List:{List} are {Even_numbers(List)}\")\n"
   ]
  },
  {
   "cell_type": "markdown",
   "id": "57e14680-c718-4446-917f-0929cc4874d0",
   "metadata": {},
   "source": [
    "Q9:Write a lambda function to sort a list of strings in ascending order based on the length of each\n",
    "string"
   ]
  },
  {
   "cell_type": "code",
   "execution_count": 6,
   "id": "02a95d79-82ef-4a61-98b4-2a81e7a181f2",
   "metadata": {},
   "outputs": [
    {
     "name": "stdin",
     "output_type": "stream",
     "text": [
      "Enter a list of strings, separated by spaces:  Hey There I Am Anna Elsa Luiz\n"
     ]
    },
    {
     "name": "stdout",
     "output_type": "stream",
     "text": [
      "The list ['Hey', 'There', 'I', 'Am', 'Anna', 'Elsa', 'Luiz'] of length 7 in Ascending order is ['I', 'Am', 'Hey', 'Anna', 'Elsa', 'Luiz', 'There'] \n"
     ]
    }
   ],
   "source": [
    "#Ans :\n",
    "    \n",
    "Sort_a_list = lambda List: sorted(List, key = lambda x: len(x))\n",
    "\n",
    "Input_List  = input(\"Enter a list of strings, separated by spaces: \")\n",
    "List        = list(map(str, Input_List.split()))\n",
    "\n",
    "print(f\"The list {List} of length {len(List)} in Ascending order is {Sort_a_list(List)} \")\n"
   ]
  },
  {
   "cell_type": "markdown",
   "id": "9f9150c9-0ce5-4ca0-8d1f-8ae5181843d0",
   "metadata": {},
   "source": [
    "Q10:Create a lambda function that takes two lists as input and returns a new list containing the\n",
    "common elements between the two lists.\n"
   ]
  },
  {
   "cell_type": "code",
   "execution_count": 8,
   "id": "13507185-bdbb-436b-9ed4-887dd0a9e0ef",
   "metadata": {},
   "outputs": [
    {
     "name": "stdin",
     "output_type": "stream",
     "text": [
      "Enter a list of strings, separated by spaces:  Hello Namaste!\n",
      "Enter a list of strings, separated by spaces:  Hello Good Morning!\n"
     ]
    },
    {
     "name": "stdout",
     "output_type": "stream",
     "text": [
      "Elements common in  List1: ['Hello', 'Namaste!'] & List2: ['Hello', 'Good', 'Morning!'] are ['Hello']\n"
     ]
    }
   ],
   "source": [
    "Intersection_list = lambda List1,List2 :  list(filter(lambda x: x in List1 , List2))\n",
    "\n",
    "Input_List1   = input(\"Enter a list of strings, separated by spaces: \")\n",
    "List1         = list(map(str, Input_List1.split()))\n",
    "\n",
    "Input_List2   = input(\"Enter a list of strings, separated by spaces: \")\n",
    "List2         = list(map(str, Input_List2.split()))\n",
    "\n",
    "print(f\"Elements common in  List1: {List1} & List2: {List2} are {Intersection_list(List1 ,List2)}\")\n"
   ]
  },
  {
   "cell_type": "markdown",
   "id": "d4d23db6-468c-42ab-ae35-c6792f7270dd",
   "metadata": {},
   "source": [
    "Q11:Write a recursive function to calculate the factorial of a given positive integer"
   ]
  },
  {
   "cell_type": "code",
   "execution_count": 9,
   "id": "c5449c14-0ed2-433f-b7b9-e4fa49f83787",
   "metadata": {},
   "outputs": [
    {
     "name": "stdin",
     "output_type": "stream",
     "text": [
      "Enter a positive integer:  3\n"
     ]
    },
    {
     "name": "stdout",
     "output_type": "stream",
     "text": [
      "Factorial of 3 is 6\n"
     ]
    }
   ],
   "source": [
    "#Ans:\n",
    "def factorial(n):\n",
    "    if n == 0 or n == 1:\n",
    "        return 1\n",
    "    else:\n",
    "        return n * factorial(n - 1)\n",
    "\n",
    "n = int(input(\"Enter a positive integer: \"))\n",
    "\n",
    "\n",
    "if n < 0:\n",
    "    print(\"Please enter a positive integer.\")\n",
    "else:\n",
    "    result = factorial(n)\n",
    "    print(\"Factorial of\", n, \"is\", result)\n"
   ]
  },
  {
   "cell_type": "markdown",
   "id": "cfdb83cc-242d-4798-940c-61eb09c4e949",
   "metadata": {},
   "source": [
    "Q12:Implement a recursive function to compute the nth Fibonacci number"
   ]
  },
  {
   "cell_type": "code",
   "execution_count": 30,
   "id": "2c5983fd-2d55-4dbf-a130-55791700ee3e",
   "metadata": {},
   "outputs": [
    {
     "name": "stdin",
     "output_type": "stream",
     "text": [
      "Enter a positive integer:  7\n"
     ]
    },
    {
     "name": "stdout",
     "output_type": "stream",
     "text": [
      "The 7 th Fibonacci number is 8\n"
     ]
    }
   ],
   "source": [
    "#Ans:\n",
    "def fibonacci(n):\n",
    "    if n <= 0:\n",
    "        return None\n",
    "    elif n == 1 or n == 2:\n",
    "        return n - 1\n",
    "    else:\n",
    "        return fibonacci(n - 1) + fibonacci(n - 2)\n",
    "\n",
    "# Example usage\n",
    "number = int(input(\"Enter a positive integer: \"))\n",
    "\n",
    "# Validate input\n",
    "if number < 1:\n",
    "    print(\"Please enter a positive integer.\")\n",
    "else:\n",
    "    result = fibonacci(number)\n",
    "    print(\"The\", number, \"th Fibonacci number is\", result)"
   ]
  },
  {
   "cell_type": "markdown",
   "id": "200f1fda-2f8f-4a89-809a-60db1368a0cf",
   "metadata": {},
   "source": [
    "Q13:Create a recursive function to find the sum of all the elements in a given list"
   ]
  },
  {
   "cell_type": "code",
   "execution_count": 14,
   "id": "0f3ba405-7e9b-41f0-bcb7-f1fa8bf37407",
   "metadata": {},
   "outputs": [
    {
     "name": "stdin",
     "output_type": "stream",
     "text": [
      "Enter a list of numbers, separated by spaces:  12 15 32 27 46 63\n"
     ]
    },
    {
     "name": "stdout",
     "output_type": "stream",
     "text": [
      "Sum of the elements in the list:[12.0, 15.0, 32.0, 27.0, 46.0, 63.0] is 195.0\n"
     ]
    }
   ],
   "source": [
    "#Ans:\n",
    "def Sum_list(List):\n",
    "    \n",
    "    if len(List) == 0:\n",
    "        return 0\n",
    "    else:\n",
    "        return List[0] + Sum_list(List[1:])\n",
    "    \n",
    "    \n",
    "    \n",
    "Input_List   = input(\"Enter a list of numbers, separated by spaces: \")\n",
    "List         = list(map(float, Input_List.split()))\n",
    "\n",
    "Sum = Sum_list(List)    \n",
    "print(f\"Sum of the elements in the list:{List} is {Sum}\")"
   ]
  },
  {
   "cell_type": "markdown",
   "id": "e952a6d1-0f76-46e1-8633-604ef541b133",
   "metadata": {},
   "source": [
    "Q14:Write a recursive function to determine whether a given string is a palindrome"
   ]
  },
  {
   "cell_type": "code",
   "execution_count": 15,
   "id": "7544b79c-c853-4f73-a5ff-467e29b95dac",
   "metadata": {},
   "outputs": [
    {
     "name": "stdin",
     "output_type": "stream",
     "text": [
      "Enter a string to check whether it's a palindrome or not: mAlAyalaM\n"
     ]
    },
    {
     "name": "stdout",
     "output_type": "stream",
     "text": [
      "The given string MALAYALAM is a Palindrome\n"
     ]
    }
   ],
   "source": [
    "#Ans:\n",
    "\n",
    "def Palindrome(String):\n",
    "    if len(String) <= 1:\n",
    "        return True\n",
    "    else:\n",
    "        if String[0] == String[-1]:\n",
    "            return Palindrome(String[1:-1])\n",
    "        else:\n",
    "            return False \n",
    "    \n",
    "String = input(\"Enter a string to check whether it's a palindrome or not:\").upper()\n",
    "\n",
    "if Palindrome(String) == True:\n",
    "    print(f\"The given string {String} is a Palindrome\")\n",
    "else:\n",
    "    print(f\"The given string {String} is not a Palindrome\")\n",
    "\n"
   ]
  },
  {
   "cell_type": "markdown",
   "id": "1960632a-7d64-453f-8f4f-0b479ae28583",
   "metadata": {},
   "source": [
    "Q15:Implement a recursive function to find the greatest common divisor (GCD) of two positive integers"
   ]
  },
  {
   "cell_type": "code",
   "execution_count": 18,
   "id": "7b9b67df-ea70-4fdc-8f3b-a92be7b68b73",
   "metadata": {},
   "outputs": [
    {
     "name": "stdin",
     "output_type": "stream",
     "text": [
      "Enter a positive number a : 786\n",
      "Enter a positive number b : 452\n"
     ]
    },
    {
     "name": "stdout",
     "output_type": "stream",
     "text": [
      "The GCD of a = 786 and b = 452 is: 2\n"
     ]
    }
   ],
   "source": [
    "#Ans:\n",
    " \n",
    "def GCD(a, b):\n",
    "    if b == 0:\n",
    "        return a\n",
    "    else:\n",
    "        return GCD(b, a % b) \n",
    "\n",
    "a = int(input(\"Enter a positive number a :\"))\n",
    "b = int(input(\"Enter a positive number b :\"))\n",
    "gcd = GCD (a, b)\n",
    "\n",
    "\n",
    "print(f\"The GCD of a = {a} and b = {b} is: {gcd}\")\n"
   ]
  }
 ],
 "metadata": {
  "kernelspec": {
   "display_name": "Python 3 (ipykernel)",
   "language": "python",
   "name": "python3"
  },
  "language_info": {
   "codemirror_mode": {
    "name": "ipython",
    "version": 3
   },
   "file_extension": ".py",
   "mimetype": "text/x-python",
   "name": "python",
   "nbconvert_exporter": "python",
   "pygments_lexer": "ipython3",
   "version": "3.10.6"
  }
 },
 "nbformat": 4,
 "nbformat_minor": 5
}
