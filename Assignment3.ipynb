{
 "cells": [
  {
   "cell_type": "markdown",
   "id": "34819afc-2a68-4fc2-8420-612edec426a9",
   "metadata": {},
   "source": [
    "Assignment 3 "
   ]
  },
  {
   "cell_type": "markdown",
   "id": "df0f9fa4-8831-40b7-ab42-26778572d26a",
   "metadata": {},
   "source": [
    "Q:1\n",
    "Why are functions advantageous to have in your programs?"
   ]
  },
  {
   "cell_type": "markdown",
   "id": "1754c2af-10fa-4bf5-89eb-57a4a09c705f",
   "metadata": {},
   "source": [
    "Ans:\n",
    "    \n",
    "       \n",
    "•\tReduce the program from complex ones to simpler ones.\n",
    "\n",
    "•\tThere are in-built functions as well as user-defined functions.\n",
    "\n",
    "•\tIt is easier to read and execute.\n",
    "\n",
    "•\tIt can be helpful to run the program multiple times.\n",
    "\n"
   ]
  },
  {
   "cell_type": "markdown",
   "id": "a0a97434-778c-4aa2-975f-93458a773370",
   "metadata": {},
   "source": [
    "Q:2 When does the code in a function run: when it's specified or when it's called?"
   ]
  },
  {
   "cell_type": "markdown",
   "id": "82c97f8e-d767-46cd-a26d-f7d0e6779454",
   "metadata": {},
   "source": [
    "Ans:\n",
    "\n",
    "A code in a function runs only when its called.\n",
    "\n"
   ]
  },
  {
   "cell_type": "markdown",
   "id": "5d738a47-4e29-4dbd-ac5f-ba90d1098853",
   "metadata": {},
   "source": [
    "Q:3 What statement creates a function?"
   ]
  },
  {
   "cell_type": "markdown",
   "id": "5d5450c1-14b7-48a9-947c-338713e9146f",
   "metadata": {},
   "source": [
    "Ans:\n",
    "    \n",
    "def function_name():   -----> defining a function.\n",
    "\n",
    "    print(“…….”)\n",
    "    \n",
    "function_name()      -------> calling a function.\n",
    "\n",
    "where ‘def’ is the keyword.\n"
   ]
  },
  {
   "cell_type": "markdown",
   "id": "4ea4ec11-b2a7-43ef-8da8-1f1fc0ffe57c",
   "metadata": {},
   "source": [
    "Q:4 What is the difference between a function and a function call?"
   ]
  },
  {
   "cell_type": "markdown",
   "id": "72a07105-664c-484f-8b97-a28aece1bde6",
   "metadata": {},
   "source": [
    "Ans:\n",
    "\n",
    "A function consists of the statement ‘def’ and the codes and returns the values of the function. Whereas a function call passes the control to a function."
   ]
  },
  {
   "cell_type": "markdown",
   "id": "b27e17ac-c404-44e8-87c7-9665f79330bc",
   "metadata": {},
   "source": [
    "Q:5 How many global scopes are there in a Python program? How many local scopes?"
   ]
  },
  {
   "cell_type": "markdown",
   "id": "3bc3b28f-8081-4fb0-bb74-cc751238a836",
   "metadata": {},
   "source": [
    "Ans:\n",
    "    \n",
    "One global scope, and a local scope is created whenever a function is called.    "
   ]
  },
  {
   "cell_type": "markdown",
   "id": "d89c9e88-3924-48bf-b2ce-49a17f3ff3a3",
   "metadata": {},
   "source": [
    "Q:6 What happens to variables in a local scope when the function call returns?"
   ]
  },
  {
   "cell_type": "markdown",
   "id": "92b214e7-14e5-425d-b877-b2a4578f6eac",
   "metadata": {},
   "source": [
    "Ans:\n",
    "    \n",
    "When a function returns, the local scope is destroyed, and all the variables in it are forgotten.    "
   ]
  },
  {
   "cell_type": "markdown",
   "id": "7327c944-09ba-4008-bb53-5f789e5bb106",
   "metadata": {},
   "source": [
    "Q:7 What is the concept of a return value? Is it possible to have a return value in an expression?"
   ]
  },
  {
   "cell_type": "markdown",
   "id": "26f4232c-9033-425c-8bd3-998a2a1821e0",
   "metadata": {},
   "source": [
    "Ans:\n",
    "\n",
    "The Python return statement is a special statement that you can use inside a function to send the function’s result back to the caller. A return statement consists of the return keyword followed by an optional return value. Yes we can return value in an expression."
   ]
  },
  {
   "cell_type": "markdown",
   "id": "6683597c-48bd-4427-ad92-e725c2328a68",
   "metadata": {},
   "source": [
    "Q:8 If a function does not have a return statement, what is the return value of a call to that function?"
   ]
  },
  {
   "cell_type": "markdown",
   "id": "67c7f112-115c-49f9-8137-953353a355d3",
   "metadata": {},
   "source": [
    "Ans:\n",
    "    \n",
    "If a function does not have a return value, it returns the value None"
   ]
  },
  {
   "cell_type": "markdown",
   "id": "9ee99754-ac10-4381-8ec9-746514e9df8a",
   "metadata": {},
   "source": [
    "Q:9 How do you make a function variable refer to the global variable?"
   ]
  },
  {
   "cell_type": "markdown",
   "id": "831bb47c-2adb-42d1-b386-c2b14e26e864",
   "metadata": {},
   "source": [
    "Ans:\n",
    "    \n",
    "A global statement will force a variable in a function to refer to the global variable.\n",
    "\n",
    "    "
   ]
  },
  {
   "cell_type": "markdown",
   "id": "ba2df608-f2ff-4c7d-9b71-f65c117b2971",
   "metadata": {},
   "source": [
    "Q10:What is the data type of None?"
   ]
  },
  {
   "cell_type": "markdown",
   "id": "12fcfe4e-f259-4a9b-a897-875d8b6ec686",
   "metadata": {},
   "source": [
    "Ans:\n",
    "    \n",
    "NoneType is the datatype of None"
   ]
  },
  {
   "cell_type": "markdown",
   "id": "0791fd2e-e90d-4929-a2bb-76b780128a3a",
   "metadata": {},
   "source": [
    "Q:11 What does the sentence import areallyourpetsnamederic do?"
   ]
  },
  {
   "cell_type": "markdown",
   "id": "3901cf18-113a-4da9-8607-fee6ef39ac7e",
   "metadata": {},
   "source": [
    "Ans:\n",
    "    \n",
    "Import is a keyword used to import a module /library we want to use. Here import areallyourpetsnamederic imports the module named ‘ areallyourpetsnamederic ’.    \n",
    "    "
   ]
  },
  {
   "cell_type": "markdown",
   "id": "c3c325b9-3ec1-41a4-8662-ea5a704cd862",
   "metadata": {},
   "source": [
    "Q:12 If you had a bacon() feature in a spam module, what would you call it after importing spam?"
   ]
  },
  {
   "cell_type": "markdown",
   "id": "193d196e-e02b-4c63-b785-b8fb4bab138e",
   "metadata": {},
   "source": [
    "Ans:\n",
    "    \n",
    "spam. bacon() is used to call the function.      "
   ]
  },
  {
   "cell_type": "markdown",
   "id": "4a455c5f-93aa-4c57-a8c3-7344f57aef6d",
   "metadata": {},
   "source": [
    "Q:13 What can you do to save a programme from crashing if it encounters an error?"
   ]
  },
  {
   "cell_type": "markdown",
   "id": "1766a5ac-c426-41b9-b929-f8a1cb6b7eee",
   "metadata": {},
   "source": [
    "Ans:\n",
    "    \n",
    "Error handling can be used to notify the user of why the error occurred and gracefully exit the process that caused the error .By using try and except clause.    "
   ]
  },
  {
   "cell_type": "markdown",
   "id": "58115909-1f8d-4e94-ac8b-78e429854fbb",
   "metadata": {},
   "source": [
    "Q:14 What is the purpose of the try clause? What is the purpose of the except clause?"
   ]
  },
  {
   "cell_type": "markdown",
   "id": "615592a2-32db-41b8-ab4b-494dbf496ece",
   "metadata": {},
   "source": [
    "Ans:\n",
    "    \n",
    "The try block contains the code that might raise an exception, and the except block contains the code that will be executed if an exception is raised.     "
   ]
  },
  {
   "cell_type": "code",
   "execution_count": 2,
   "id": "0a107d08-bbb8-435a-8f6e-737c2d14f96e",
   "metadata": {},
   "outputs": [
    {
     "name": "stdout",
     "output_type": "stream",
     "text": [
      "x is not defined\n"
     ]
    }
   ],
   "source": [
    "#Eg: \n",
    "try : \n",
    "    print(x) \n",
    "except:\n",
    "    print('x is not defined') \n"
   ]
  },
  {
   "cell_type": "code",
   "execution_count": null,
   "id": "0a33234c-df38-49b8-9336-927d9ab2f002",
   "metadata": {},
   "outputs": [],
   "source": []
  }
 ],
 "metadata": {
  "kernelspec": {
   "display_name": "Python 3 (ipykernel)",
   "language": "python",
   "name": "python3"
  },
  "language_info": {
   "codemirror_mode": {
    "name": "ipython",
    "version": 3
   },
   "file_extension": ".py",
   "mimetype": "text/x-python",
   "name": "python",
   "nbconvert_exporter": "python",
   "pygments_lexer": "ipython3",
   "version": "3.10.6"
  }
 },
 "nbformat": 4,
 "nbformat_minor": 5
}
